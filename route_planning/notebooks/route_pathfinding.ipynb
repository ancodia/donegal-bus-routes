{
 "cells": [
  {
   "cell_type": "markdown",
   "metadata": {
    "collapsed": true,
    "pycharm": {
     "name": "#%% md\n"
    }
   },
   "source": [
    "This notebook documents how the greatest weighted simple path is found between community route start and end nodes as found in the node ranking process."
   ]
  },
  {
   "cell_type": "code",
   "execution_count": 2,
   "outputs": [],
   "source": [
    "import osmnx as ox\n",
    "import networkx as nx\n",
    "import config\n",
    "import route_planning.helpers.route_planning_helper as helper"
   ],
   "metadata": {
    "collapsed": false,
    "pycharm": {
     "name": "#%%\n"
    }
   }
  },
  {
   "cell_type": "markdown",
   "source": [
    "Load the graph where route start and end nodes are flagged.\n",
    "\n",
    "Then create a subgraph for each community,\n",
    "this will ensure simple paths found stay within a community's boundaries,\n",
    "reducing computation time."
   ],
   "metadata": {
    "collapsed": false
   }
  },
  {
   "cell_type": "code",
   "execution_count": 3,
   "outputs": [
    {
     "name": "stdout",
     "output_type": "stream",
     "text": [
      "CPU times: user 1.41 s, sys: 32.9 ms, total: 1.44 s\n",
      "Wall time: 1.47 s\n"
     ]
    }
   ],
   "source": [
    "%%time\n",
    "G = ox.load_graphml(filepath=f\"{config.rp_graphml_path}/route_start_end_flagged.graphml\")\n",
    "\n",
    "nodes, edges = ox.graph_to_gdfs(G)\n",
    "community_labels = list(nodes[\"community\"].unique())\n",
    "\n",
    "community_graphs = []\n",
    "for label in community_labels:\n",
    "    community_nodes = []\n",
    "    for x, y in G.nodes(data=True):\n",
    "        if y[\"community\"] == label:\n",
    "            community_nodes.append(x)\n",
    "    sub = G.subgraph(community_nodes)\n",
    "    community_graphs.append(sub)"
   ],
   "metadata": {
    "collapsed": false,
    "pycharm": {
     "name": "#%%\n"
    }
   }
  },
  {
   "cell_type": "code",
   "execution_count": 18,
   "outputs": [
    {
     "data": {
      "text/plain": "<Figure size 576x576 with 1 Axes>",
      "image/png": "[encoded data removed]"
     },
     "metadata": {},
     "output_type": "display_data"
    },
    {
     "data": {
      "text/plain": "(<Figure size 576x576 with 1 Axes>,\n <matplotlib.axes._subplots.AxesSubplot at 0x7fe00e339850>)"
     },
     "execution_count": 18,
     "metadata": {},
     "output_type": "execute_result"
    }
   ],
   "source": [
    "ox.plot_graph(community_graphs[0])"
   ],
   "metadata": {
    "collapsed": false,
    "pycharm": {
     "name": "#%%\n"
    }
   }
  },
  {
   "cell_type": "code",
   "execution_count": 4,
   "outputs": [
    {
     "name": "stdout",
     "output_type": "stream",
     "text": [
      "CPU times: user 574 µs, sys: 77 µs, total: 651 µs\n",
      "Wall time: 665 µs\n"
     ]
    }
   ],
   "source": [
    "%%time\n",
    "start_node = None\n",
    "end_node = None\n",
    "for x, y in community_graphs[0].nodes(data=True):\n",
    "    if \"route_flag\" in y:\n",
    "        if y[\"route_flag\"] == \"1\":\n",
    "            start_node = x\n",
    "        elif y[\"route_flag\"] == \"2\":\n",
    "            end_node = x\n",
    "#ox.plot_graph(community_graphs[0], node_size=10)\n",
    "\n",
    "# heaviest_path = max((path for path in nx.all_simple_paths(community_graphs[0],\n",
    "#                                                           source=start_node,\n",
    "#                                                           target=end_node)),\n",
    "#                     key=lambda path: path_weight(path))\n",
    "#paths = list(nx.all_simple_paths(community_graphs[0], source=start_node, target=end_node))"
   ],
   "metadata": {
    "collapsed": false,
    "pycharm": {
     "name": "#%%\n"
    }
   }
  },
  {
   "cell_type": "code",
   "execution_count": 5,
   "outputs": [],
   "source": [
    "heaviest_path = max((path for path in nx.all_simple_paths(community_graphs[0],\n",
    "                                                          source=start_node,\n",
    "                                                          target=end_node)),\n",
    "                    key=lambda path: helper.path_weight(community_graphs[0], path))"
   ],
   "metadata": {
    "collapsed": false,
    "pycharm": {
     "name": "#%%\n"
    }
   }
  },
  {
   "cell_type": "code",
   "execution_count": null,
   "outputs": [],
   "source": [
    "community_nodes_ = []\n",
    "for x, y in G.nodes(data=True):\n",
    "    if y[\"community\"] == \"2\":\n",
    "        community_nodes_.append(x)\n",
    "sub = G.subgraph(community_nodes_)\n",
    "ox.plot_graph(sub)"
   ],
   "metadata": {
    "collapsed": false,
    "pycharm": {
     "name": "#%%\n"
    }
   }
  }
 ],
 "metadata": {
  "kernelspec": {
   "display_name": "Python 3",
   "language": "python",
   "name": "python3"
  },
  "language_info": {
   "codemirror_mode": {
    "name": "ipython",
    "version": 2
   },
   "file_extension": ".py",
   "mimetype": "text/x-python",
   "name": "python",
   "nbconvert_exporter": "python",
   "pygments_lexer": "ipython2",
   "version": "2.7.6"
  }
 },
 "nbformat": 4,
 "nbformat_minor": 0
}