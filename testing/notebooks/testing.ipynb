{
 "cells": [
  {
   "cell_type": "code",
   "execution_count": 1,
   "metadata": {},
   "outputs": [],
   "source": [
    "import pandas as pd\n",
    "import networkx as nx\n",
    "import osmnx as ox\n",
    "import config\n",
    "import random\n",
    "import math\n",
    "import testing.helpers.testing_helper as test_helper\n",
    "import route_planning.helpers.route_planning_helper as route_helper\n",
    "import matplotlib.pyplot as plt"
   ]
  },
  {
   "cell_type": "code",
   "execution_count": 2,
   "metadata": {
    "pycharm": {
     "name": "#%%\n"
    }
   },
   "outputs": [
    {
     "data": {
      "text/plain": "<networkx.classes.multidigraph.MultiDiGraph at 0x7f52d8e02d30>"
     },
     "execution_count": 2,
     "metadata": {},
     "output_type": "execute_result"
    }
   ],
   "source": [
    "G = ox.load_graphml(filepath=f\"{config.testing_graphml_path}/merged_routes.graphml\")\n",
    "G"
   ]
  },
  {
   "cell_type": "markdown",
   "metadata": {},
   "source": [
    "Get sets of generated and real bus stops"
   ]
  },
  {
   "cell_type": "code",
   "execution_count": 3,
   "metadata": {
    "pycharm": {
     "name": "#%%\n"
    }
   },
   "outputs": [
    {
     "name": "stdout",
     "output_type": "stream",
     "text": [
      "CPU times: user 977 ms, sys: 19.8 ms, total: 997 ms\n",
      "Wall time: 1 s\n"
     ]
    }
   ],
   "source": [
    "%%time\n",
    "nodes, edges = ox.graph_to_gdfs(G)\n",
    "nodes = nodes.replace({\"True\": True, \"False\": False})\n",
    "actual_stops = nodes[nodes[\"actual_stop\"] == True]\n",
    "generated_stops = nodes[(nodes[\"community_route\"] == True) |\n",
    "                        (nodes[\"connection_route\"] == True)]"
   ]
  },
  {
   "cell_type": "code",
   "execution_count": 4,
   "metadata": {
    "pycharm": {
     "name": "#%%\n"
    }
   },
   "outputs": [
    {
     "data": {
      "text/plain": "122"
     },
     "execution_count": 4,
     "metadata": {},
     "output_type": "execute_result"
    }
   ],
   "source": [
    "len(actual_stops)"
   ]
  },
  {
   "cell_type": "code",
   "execution_count": 5,
   "metadata": {
    "pycharm": {
     "name": "#%%\n"
    }
   },
   "outputs": [
    {
     "data": {
      "text/plain": "650"
     },
     "execution_count": 5,
     "metadata": {},
     "output_type": "execute_result"
    }
   ],
   "source": [
    "len(generated_stops)"
   ]
  },
  {
   "cell_type": "markdown",
   "metadata": {},
   "source": [
    "Determine sample size to use...\n",
    "\n",
    "First find the total population:"
   ]
  },
  {
   "cell_type": "code",
   "execution_count": 6,
   "metadata": {
    "pycharm": {
     "name": "#%%\n"
    }
   },
   "outputs": [
    {
     "data": {
      "text/plain": "157920.0"
     },
     "execution_count": 6,
     "metadata": {},
     "output_type": "execute_result"
    }
   ],
   "source": [
    "population_data = pd.read_csv(f\"{config.population_data_path}/donegal_townlands_all_coordinates.csv\")\n",
    "total_population = sum(population_data[\"population\"])\n",
    "total_population"
   ]
  },
  {
   "cell_type": "markdown",
   "metadata": {},
   "source": [
    "And use that number for the Cochran’s theorem calculation:"
   ]
  },
  {
   "cell_type": "code",
   "execution_count": 7,
   "metadata": {},
   "outputs": [
    {
     "data": {
      "text/plain": "383.23017177926187"
     },
     "execution_count": 7,
     "metadata": {},
     "output_type": "execute_result"
    }
   ],
   "source": [
    "sample_size = test_helper.sample_size(int(total_population),\n",
    "                                      margin_error=.05,\n",
    "                                      confidence_level=.95)\n",
    "sample_size"
   ]
  },
  {
   "cell_type": "markdown",
   "metadata": {},
   "source": [
    "Round sample size up to 384"
   ]
  },
  {
   "cell_type": "code",
   "execution_count": 8,
   "metadata": {
    "pycharm": {
     "name": "#%%\n"
    }
   },
   "outputs": [
    {
     "data": {
      "text/plain": "384"
     },
     "execution_count": 8,
     "metadata": {},
     "output_type": "execute_result"
    }
   ],
   "source": [
    "sample_size = math.ceil(sample_size)\n",
    "sample_size"
   ]
  },
  {
   "cell_type": "markdown",
   "metadata": {},
   "source": [
    "Select pseudorandom sample nodes"
   ]
  },
  {
   "cell_type": "code",
   "execution_count": 9,
   "metadata": {},
   "outputs": [
    {
     "name": "stdout",
     "output_type": "stream",
     "text": [
      "CPU times: user 355 µs, sys: 25 µs, total: 380 µs\n",
      "Wall time: 386 µs\n"
     ]
    },
    {
     "data": {
      "text/plain": "[2278757178,\n 3136051855,\n 2907774541,\n 807308716,\n 1890409027,\n 7636067634,\n 6268063403,\n 1605600061,\n 1963769166,\n 819185298,\n 2101310838,\n 795638023,\n 3080327970,\n 4743968493,\n 2025663538,\n 6987544489,\n 1373292089,\n 6268679720,\n 2500523458,\n 818369564,\n 2293512464,\n 7636844721,\n 3101333914,\n 4880014961,\n 821219557,\n 1954841321,\n 3915716742,\n 6692012674,\n 7768600251,\n 1924398741,\n 6681239278,\n 3881968646,\n 3121549346,\n 3215269892,\n 1878583118,\n 4221644835,\n 3141085488,\n 6700205618,\n 1650811944,\n 6988339162,\n 5195221482,\n 3183388882,\n 5887580695,\n 1883219672,\n 1896549990,\n 7494396791,\n 789477821,\n 815118697,\n 1886956307,\n 3084535531,\n 2195641112,\n 3158695028,\n 2010495763,\n 4838442792,\n 7768600241,\n 2111374311,\n 2196540165,\n 811392631,\n 2004137482,\n 3101333787,\n 816377862,\n 2197929531,\n 6988356697,\n 2521098012,\n 2278477960,\n 3153701888,\n 795326656,\n 1890641877,\n 1885442530,\n 1886618154,\n 777368917,\n 3666545673,\n 5709684279,\n 3218357846,\n 7635991734,\n 2334923965,\n 6257945654,\n 3160466350,\n 258431249,\n 1924414334,\n 6268745429,\n 6990952346,\n 4303340606,\n 2361493413,\n 1965496753,\n 7635991586,\n 1945739906,\n 5929207322,\n 3092892125,\n 793343843,\n 1889535201,\n 813514922,\n 3174157656,\n 2162630280,\n 1963841699,\n 1881571310,\n 6700205047,\n 7551614125,\n 3923726133,\n 1947634998,\n 320650249,\n 1947972216,\n 2573401148,\n 1895961981,\n 3158695029,\n 2178769512,\n 1892331550,\n 5700508051,\n 816380697,\n 3868676094,\n 3080503556,\n 5228309301,\n 2199469449,\n 2198353117,\n 3092888916,\n 1947246092,\n 4415783702,\n 2114692135,\n 1895370809,\n 1877345103,\n 790572053,\n 3321143874,\n 2115649974,\n 6700205605,\n 1575245837,\n 1912831153,\n 796651536,\n 6988323796,\n 1883609363,\n 3219708741,\n 2295698108,\n 821231682,\n 4419757409,\n 1895355706,\n 2112886373,\n 6553908580,\n 1912831358,\n 795277175,\n 4244774594,\n 6987390166,\n 2197919967,\n 1908081416,\n 1890696453,\n 5187011293,\n 1875646918,\n 1876803996,\n 3666211738,\n 813423496,\n 1947634848,\n 1914112677,\n 818377023,\n 6987274587,\n 1876273057,\n 1885998247,\n 1954989679,\n 6268745399,\n 1888849773,\n 3201137541,\n 1948977137,\n 6988356743,\n 33217481,\n 4358945044,\n 1895338443,\n 2112886522,\n 5195168280,\n 3854101729,\n 1883124011,\n 6553895376,\n 812640253,\n 344805482,\n 1890720472,\n 6988552322,\n 2907575476,\n 4837193647,\n 1951499775,\n 1963769256,\n 818375613,\n 6673740191,\n 705749674,\n 2334942218,\n 3180496596,\n 4415783180,\n 1885743427,\n 1930345653,\n 2278848461,\n 1255323484,\n 1880172437,\n 815192427,\n 2111584856,\n 1881611752,\n 3415639503,\n 1884264547,\n 2112886333,\n 2100636850,\n 1895997842,\n 7491282892,\n 4359521795,\n 3201137651,\n 795320171,\n 1592654594,\n 3111975027,\n 2038753280,\n 795320289,\n 2890820335,\n 1884264294,\n 4943776322,\n 1880110692,\n 7636826466,\n 262488484,\n 795326275,\n 2114762423,\n 4303340740,\n 1909861715,\n 1925937601,\n 1890038317,\n 4419757242,\n 5924700507,\n 7499611369,\n 1887535415,\n 258428486,\n 1892010324,\n 1984693488,\n 1954750480,\n 4308622285,\n 1895937097,\n 4247475081,\n 3923723566,\n 2133487919,\n 4758002126,\n 2196540163,\n 2859732951,\n 1890628176,\n 5184690980,\n 4031005497,\n 5247775739,\n 7539082203,\n 6638667010,\n 1877426677,\n 258431660,\n 6528288532,\n 1573015458,\n 2907774392,\n 3174158669,\n 3008917293,\n 1954749771,\n 1963751706,\n 4190684239,\n 529644993,\n 3201182662,\n 821214331,\n 790572164,\n 1880140604,\n 3894456144,\n 7635992103,\n 1947634441,\n 790563390,\n 2138724393,\n 816380198,\n 1886440221,\n 4415781100,\n 1897105985,\n 6267882968,\n 2197729938,\n 2186488105,\n 705745737,\n 2140003187,\n 1922695769,\n 2195640723,\n 1979831082,\n 2348593171,\n 1963751866,\n 790623280,\n 6491196639,\n 2417764400,\n 1888088707,\n 2188448578,\n 1381072641,\n 1877582846,\n 3201138509,\n 812640287,\n 6458348262,\n 2887478973,\n 2295823932,\n 4303374985,\n 1895997223,\n 1963751845,\n 6499484062,\n 3218357816,\n 4644766739,\n 2112886361,\n 1888849832,\n 5187011164,\n 2197729866,\n 818371100,\n 3084467427,\n 1890239836,\n 1605599935,\n 4415783182,\n 3915716665,\n 1846175418,\n 7450745370,\n 2417734440,\n 2189152897,\n 2133487926,\n 6457594867,\n 3201139636,\n 6551835378,\n 6680268115,\n 4336748172,\n 1625516019,\n 1919296818,\n 1934140778,\n 1947257326,\n 6553794383,\n 818377268,\n 6553686884,\n 3686194863,\n 529112658,\n 7685364258,\n 813603580,\n 5062182566,\n 5195221383,\n 1737325052,\n 7475058017,\n 1963717161,\n 2874188265,\n 2417734263,\n 1947257400,\n 3158793443,\n 6987544488,\n 1876693551,\n 3218357871,\n 4419758216,\n 789317088,\n 775853717,\n 911533189,\n 339849456,\n 258670350,\n 1957046975,\n 3306924251,\n 320650450,\n 2859732936,\n 1984079631,\n 2431959016,\n 2685874122,\n 2677240451,\n 3151921499,\n 3923725388,\n 7682183400,\n 6164515915,\n 7067378844,\n 2898899870,\n 1914032536,\n 1947230922,\n 1879176983,\n 777374671,\n 4564452444,\n 818376808,\n 6689521165,\n 3415639515,\n 3923726062,\n 1963716947,\n 3144619632,\n 1075599168,\n 462905648,\n 6700219139,\n 1889833016,\n 1976663536,\n 813602135,\n 1900941302,\n 2195641036,\n 780665853,\n 1659744527,\n 2886986332,\n 2111584624,\n 1880769417,\n 4680913224,\n 5216099126,\n 825408132,\n 1876244975,\n 1890696165,\n 2961981925,\n 814508608,\n 1890038271]"
     },
     "execution_count": 9,
     "metadata": {},
     "output_type": "execute_result"
    }
   ],
   "source": [
    "random.seed(123)\n",
    "all_stops = actual_stops[\"osmid\"].tolist() + generated_stops[\"osmid\"].tolist()\n",
    "nodes_to_sample_from = nodes.query(\"osmid not in @all_stops\")[\"osmid\"].tolist()\n",
    "%time sample_nodes = random.sample(nodes_to_sample_from, sample_size)\n",
    "sample_nodes"
   ]
  },
  {
   "cell_type": "markdown",
   "metadata": {
    "pycharm": {
     "name": "#%% md\n"
    }
   },
   "source": [
    "Run the accessibility tests:"
   ]
  },
  {
   "cell_type": "code",
   "execution_count": 10,
   "metadata": {
    "pycharm": {
     "name": "#%%\n"
    }
   },
   "outputs": [
    {
     "name": "stdout",
     "output_type": "stream",
     "text": [
      "CPU times: user 10min 56s, sys: 825 ms, total: 10min 57s\n",
      "Wall time: 11min 3s\n"
     ]
    },
    {
     "data": {
      "text/plain": "     sample_node                                    actual_stops_sp  \\\n0     2278757178  [2278757178, 2278757361, 2278757246, 227875714...   \n1     3136051855    [3136051855, 3136051862, 262493600, 1954832010]   \n2     2907774541  [2907774541, 1417678818, 2111294458, 141767885...   \n3      807308716  [807308716, 807308416, 807307754, 7040259102, ...   \n4     1890409027  [1890409027, 1890409019, 1890408893, 189040902...   \n..           ...                                                ...   \n379   1876244975  [1876244975, 1876245440, 2188448320, 320646189...   \n380   1890696165  [1890696165, 1890697184, 1890696643, 159256307...   \n381   2961981925  [2961981925, 2961981886, 1875858817, 296198185...   \n382    814508608  [814508608, 814508418, 814508423, 814508670, 8...   \n383   1890038271  [1890038271, 1385340554, 1890196673, 189058316...   \n\n     actual_stops_sp_length  \\\n0                  2245.646   \n1                   120.599   \n2                  3478.453   \n3                  1942.705   \n4                  3684.294   \n..                      ...   \n379                5867.070   \n380                5150.666   \n381               10921.216   \n382                1269.987   \n383                6378.341   \n\n                                          gen_stops_sp  gen_stops_sp_length  \n0                 [2278757178, 2278757361, 2278757277]              832.667  \n1      [3136051855, 3136051862, 262493600, 3181896668]              115.735  \n2                 [2907774541, 1417678818, 1417678805]             1653.475  \n3    [807308716, 807308416, 807307754, 7040259102, ...             1734.323  \n4    [1890409027, 1890409019, 1890408893, 189040902...            15138.646  \n..                                                 ...                  ...  \n379    [1876244975, 1876245440, 1876245281, 773139158]             1267.495  \n380  [1890696165, 1886644218, 5187149633, 518701145...             2566.956  \n381  [2961981925, 2961981886, 2961981898, 296200373...             3658.769  \n382  [814508608, 814508418, 814508423, 814508670, 8...             1279.166  \n383  [1890038271, 427999806, 1890038317, 1890038493...             9667.811  \n\n[384 rows x 5 columns]",
      "text/html": "<div>\n<style scoped>\n    .dataframe tbody tr th:only-of-type {\n        vertical-align: middle;\n    }\n\n    .dataframe tbody tr th {\n        vertical-align: top;\n    }\n\n    .dataframe thead th {\n        text-align: right;\n    }\n</style>\n<table border=\"1\" class=\"dataframe\">\n  <thead>\n    <tr style=\"text-align: right;\">\n      <th></th>\n      <th>sample_node</th>\n      <th>actual_stops_sp</th>\n      <th>actual_stops_sp_length</th>\n      <th>gen_stops_sp</th>\n      <th>gen_stops_sp_length</th>\n    </tr>\n  </thead>\n  <tbody>\n    <tr>\n      <th>0</th>\n      <td>2278757178</td>\n      <td>[2278757178, 2278757361, 2278757246, 227875714...</td>\n      <td>2245.646</td>\n      <td>[2278757178, 2278757361, 2278757277]</td>\n      <td>832.667</td>\n    </tr>\n    <tr>\n      <th>1</th>\n      <td>3136051855</td>\n      <td>[3136051855, 3136051862, 262493600, 1954832010]</td>\n      <td>120.599</td>\n      <td>[3136051855, 3136051862, 262493600, 3181896668]</td>\n      <td>115.735</td>\n    </tr>\n    <tr>\n      <th>2</th>\n      <td>2907774541</td>\n      <td>[2907774541, 1417678818, 2111294458, 141767885...</td>\n      <td>3478.453</td>\n      <td>[2907774541, 1417678818, 1417678805]</td>\n      <td>1653.475</td>\n    </tr>\n    <tr>\n      <th>3</th>\n      <td>807308716</td>\n      <td>[807308716, 807308416, 807307754, 7040259102, ...</td>\n      <td>1942.705</td>\n      <td>[807308716, 807308416, 807307754, 7040259102, ...</td>\n      <td>1734.323</td>\n    </tr>\n    <tr>\n      <th>4</th>\n      <td>1890409027</td>\n      <td>[1890409027, 1890409019, 1890408893, 189040902...</td>\n      <td>3684.294</td>\n      <td>[1890409027, 1890409019, 1890408893, 189040902...</td>\n      <td>15138.646</td>\n    </tr>\n    <tr>\n      <th>...</th>\n      <td>...</td>\n      <td>...</td>\n      <td>...</td>\n      <td>...</td>\n      <td>...</td>\n    </tr>\n    <tr>\n      <th>379</th>\n      <td>1876244975</td>\n      <td>[1876244975, 1876245440, 2188448320, 320646189...</td>\n      <td>5867.070</td>\n      <td>[1876244975, 1876245440, 1876245281, 773139158]</td>\n      <td>1267.495</td>\n    </tr>\n    <tr>\n      <th>380</th>\n      <td>1890696165</td>\n      <td>[1890696165, 1890697184, 1890696643, 159256307...</td>\n      <td>5150.666</td>\n      <td>[1890696165, 1886644218, 5187149633, 518701145...</td>\n      <td>2566.956</td>\n    </tr>\n    <tr>\n      <th>381</th>\n      <td>2961981925</td>\n      <td>[2961981925, 2961981886, 1875858817, 296198185...</td>\n      <td>10921.216</td>\n      <td>[2961981925, 2961981886, 2961981898, 296200373...</td>\n      <td>3658.769</td>\n    </tr>\n    <tr>\n      <th>382</th>\n      <td>814508608</td>\n      <td>[814508608, 814508418, 814508423, 814508670, 8...</td>\n      <td>1269.987</td>\n      <td>[814508608, 814508418, 814508423, 814508670, 8...</td>\n      <td>1279.166</td>\n    </tr>\n    <tr>\n      <th>383</th>\n      <td>1890038271</td>\n      <td>[1890038271, 1385340554, 1890196673, 189058316...</td>\n      <td>6378.341</td>\n      <td>[1890038271, 427999806, 1890038317, 1890038493...</td>\n      <td>9667.811</td>\n    </tr>\n  </tbody>\n</table>\n<p>384 rows × 5 columns</p>\n</div>"
     },
     "execution_count": 10,
     "metadata": {},
     "output_type": "execute_result"
    }
   ],
   "source": [
    "%%time\n",
    "\n",
    "results_list = []\n",
    "for node in sample_nodes:\n",
    "    # 20km radius graph around the source node\n",
    "    graph = nx.generators.ego_graph(G, node, radius=20000, distance=\"length\")\n",
    "\n",
    "    # get the stops that are in the sub-graph\n",
    "    nodes = ox.graph_to_gdfs(graph, edges=False)\n",
    "    nodes = nodes.replace({\"True\": True, \"False\": False})\n",
    "    actual_stops_present = list(set(actual_stops[\"osmid\"]).intersection(nodes[\"osmid\"]))\n",
    "    gen_stops_present = list(set(generated_stops[\"osmid\"]).intersection(nodes[\"osmid\"]))\n",
    "\n",
    "    # path to closest actual stop\n",
    "    actual_stops_shortest_path, actual_stops_shortest_path_weight = \\\n",
    "    test_helper.find_shortest_path_to_destinations(graph,\n",
    "                                                   node,\n",
    "                                                   actual_stops_present,\n",
    "                                                   print_all=False)\n",
    "    # path to closest generated stop\n",
    "    gen_stops_shortest_path, gen_stops_shortest_path_weight = \\\n",
    "    test_helper.find_shortest_path_to_destinations(graph,\n",
    "                                                   node,\n",
    "                                                   gen_stops_present,\n",
    "                                                   print_all=False)\n",
    "\n",
    "    # add to results\n",
    "    results_list.append({\"sample_node\": node,\n",
    "                         \"actual_stops_sp\": actual_stops_shortest_path,\n",
    "                         \"actual_stops_sp_length\": actual_stops_shortest_path_weight,\n",
    "                         \"gen_stops_sp\": gen_stops_shortest_path,\n",
    "                         \"gen_stops_sp_length\": gen_stops_shortest_path_weight})\n",
    "results_df = pd.DataFrame(results_list)\n",
    "results_df"
   ]
  },
  {
   "cell_type": "code",
   "execution_count": 11,
   "metadata": {
    "pycharm": {
     "name": "#%%\n"
    }
   },
   "outputs": [],
   "source": [
    "results_df.to_csv(f\"{config.testing_path}/\"\n",
    "                  f\"results/results_seed123.csv\")"
   ]
  },
  {
   "cell_type": "code",
   "execution_count": 2,
   "metadata": {
    "pycharm": {
     "name": "#%%\n"
    }
   },
   "outputs": [
    {
     "data": {
      "text/plain": "     Unnamed: 0  sample_node  \\\n0             0   2278757178   \n1             1   3136051855   \n2             2   2907774541   \n3             3    807308716   \n4             4   1890409027   \n..          ...          ...   \n379         379   1876244975   \n380         380   1890696165   \n381         381   2961981925   \n382         382    814508608   \n383         383   1890038271   \n\n                                       actual_stops_sp  \\\n0    [2278757178, 2278757361, 2278757246, 227875714...   \n1      [3136051855, 3136051862, 262493600, 1954832010]   \n2    [2907774541, 1417678818, 2111294458, 141767885...   \n3    [807308716, 807308416, 807307754, 7040259102, ...   \n4    [1890409027, 1890409019, 1890408893, 189040902...   \n..                                                 ...   \n379  [1876244975, 1876245440, 2188448320, 320646189...   \n380  [1890696165, 1890697184, 1890696643, 159256307...   \n381  [2961981925, 2961981886, 1875858817, 296198185...   \n382  [814508608, 814508418, 814508423, 814508670, 8...   \n383  [1890038271, 1385340554, 1890196673, 189058316...   \n\n     actual_stops_sp_length  \\\n0                  2245.646   \n1                   120.599   \n2                  3478.453   \n3                  1942.705   \n4                  3684.294   \n..                      ...   \n379                5867.070   \n380                5150.666   \n381               10921.216   \n382                1269.987   \n383                6378.341   \n\n                                          gen_stops_sp  gen_stops_sp_length  \n0                 [2278757178, 2278757361, 2278757277]              832.667  \n1      [3136051855, 3136051862, 262493600, 3181896668]              115.735  \n2                 [2907774541, 1417678818, 1417678805]             1653.475  \n3    [807308716, 807308416, 807307754, 7040259102, ...             1734.323  \n4    [1890409027, 1890409019, 1890408893, 189040902...            15138.646  \n..                                                 ...                  ...  \n379    [1876244975, 1876245440, 1876245281, 773139158]             1267.495  \n380  [1890696165, 1886644218, 5187149633, 518701145...             2566.956  \n381  [2961981925, 2961981886, 2961981898, 296200373...             3658.769  \n382  [814508608, 814508418, 814508423, 814508670, 8...             1279.166  \n383  [1890038271, 427999806, 1890038317, 1890038493...             9667.811  \n\n[384 rows x 6 columns]",
      "text/html": "<div>\n<style scoped>\n    .dataframe tbody tr th:only-of-type {\n        vertical-align: middle;\n    }\n\n    .dataframe tbody tr th {\n        vertical-align: top;\n    }\n\n    .dataframe thead th {\n        text-align: right;\n    }\n</style>\n<table border=\"1\" class=\"dataframe\">\n  <thead>\n    <tr style=\"text-align: right;\">\n      <th></th>\n      <th>Unnamed: 0</th>\n      <th>sample_node</th>\n      <th>actual_stops_sp</th>\n      <th>actual_stops_sp_length</th>\n      <th>gen_stops_sp</th>\n      <th>gen_stops_sp_length</th>\n    </tr>\n  </thead>\n  <tbody>\n    <tr>\n      <th>0</th>\n      <td>0</td>\n      <td>2278757178</td>\n      <td>[2278757178, 2278757361, 2278757246, 227875714...</td>\n      <td>2245.646</td>\n      <td>[2278757178, 2278757361, 2278757277]</td>\n      <td>832.667</td>\n    </tr>\n    <tr>\n      <th>1</th>\n      <td>1</td>\n      <td>3136051855</td>\n      <td>[3136051855, 3136051862, 262493600, 1954832010]</td>\n      <td>120.599</td>\n      <td>[3136051855, 3136051862, 262493600, 3181896668]</td>\n      <td>115.735</td>\n    </tr>\n    <tr>\n      <th>2</th>\n      <td>2</td>\n      <td>2907774541</td>\n      <td>[2907774541, 1417678818, 2111294458, 141767885...</td>\n      <td>3478.453</td>\n      <td>[2907774541, 1417678818, 1417678805]</td>\n      <td>1653.475</td>\n    </tr>\n    <tr>\n      <th>3</th>\n      <td>3</td>\n      <td>807308716</td>\n      <td>[807308716, 807308416, 807307754, 7040259102, ...</td>\n      <td>1942.705</td>\n      <td>[807308716, 807308416, 807307754, 7040259102, ...</td>\n      <td>1734.323</td>\n    </tr>\n    <tr>\n      <th>4</th>\n      <td>4</td>\n      <td>1890409027</td>\n      <td>[1890409027, 1890409019, 1890408893, 189040902...</td>\n      <td>3684.294</td>\n      <td>[1890409027, 1890409019, 1890408893, 189040902...</td>\n      <td>15138.646</td>\n    </tr>\n    <tr>\n      <th>...</th>\n      <td>...</td>\n      <td>...</td>\n      <td>...</td>\n      <td>...</td>\n      <td>...</td>\n      <td>...</td>\n    </tr>\n    <tr>\n      <th>379</th>\n      <td>379</td>\n      <td>1876244975</td>\n      <td>[1876244975, 1876245440, 2188448320, 320646189...</td>\n      <td>5867.070</td>\n      <td>[1876244975, 1876245440, 1876245281, 773139158]</td>\n      <td>1267.495</td>\n    </tr>\n    <tr>\n      <th>380</th>\n      <td>380</td>\n      <td>1890696165</td>\n      <td>[1890696165, 1890697184, 1890696643, 159256307...</td>\n      <td>5150.666</td>\n      <td>[1890696165, 1886644218, 5187149633, 518701145...</td>\n      <td>2566.956</td>\n    </tr>\n    <tr>\n      <th>381</th>\n      <td>381</td>\n      <td>2961981925</td>\n      <td>[2961981925, 2961981886, 1875858817, 296198185...</td>\n      <td>10921.216</td>\n      <td>[2961981925, 2961981886, 2961981898, 296200373...</td>\n      <td>3658.769</td>\n    </tr>\n    <tr>\n      <th>382</th>\n      <td>382</td>\n      <td>814508608</td>\n      <td>[814508608, 814508418, 814508423, 814508670, 8...</td>\n      <td>1269.987</td>\n      <td>[814508608, 814508418, 814508423, 814508670, 8...</td>\n      <td>1279.166</td>\n    </tr>\n    <tr>\n      <th>383</th>\n      <td>383</td>\n      <td>1890038271</td>\n      <td>[1890038271, 1385340554, 1890196673, 189058316...</td>\n      <td>6378.341</td>\n      <td>[1890038271, 427999806, 1890038317, 1890038493...</td>\n      <td>9667.811</td>\n    </tr>\n  </tbody>\n</table>\n<p>384 rows × 6 columns</p>\n</div>"
     },
     "execution_count": 2,
     "metadata": {},
     "output_type": "execute_result"
    }
   ],
   "source": [
    "results_df = pd.read_csv(f\"{config.testing_path}/\"\n",
    "                         f\"results/results_seed123.csv\")\n",
    "results_df"
   ]
  },
  {
   "cell_type": "markdown",
   "metadata": {},
   "source": [
    "Actual stops that are closer to sample nodes:"
   ]
  },
  {
   "cell_type": "code",
   "execution_count": 13,
   "metadata": {
    "pycharm": {
     "name": "#%%\n"
    }
   },
   "outputs": [
    {
     "data": {
      "text/plain": "112"
     },
     "execution_count": 13,
     "metadata": {},
     "output_type": "execute_result"
    }
   ],
   "source": [
    "actual_stop_closer = results_df.query(\"actual_stops_sp_length < \"\n",
    "                                      \"gen_stops_sp_length\")\n",
    "len(actual_stop_closer)"
   ]
  },
  {
   "cell_type": "markdown",
   "metadata": {},
   "source": [
    "112 actual stops are closer. Now find the generated stops that are closer:"
   ]
  },
  {
   "cell_type": "code",
   "execution_count": 14,
   "metadata": {},
   "outputs": [
    {
     "data": {
      "text/plain": "262"
     },
     "execution_count": 14,
     "metadata": {},
     "output_type": "execute_result"
    }
   ],
   "source": [
    "gen_stop_closer = results_df.query(\"actual_stops_sp_length > \"\n",
    "                                   \"gen_stops_sp_length\")\n",
    "len(gen_stop_closer)"
   ]
  },
  {
   "cell_type": "markdown",
   "metadata": {},
   "source": [
    "262 generated are closer, a difference of 150.\n",
    "\n",
    "Find the percentage differnce"
   ]
  },
  {
   "cell_type": "code",
   "execution_count": 15,
   "metadata": {},
   "outputs": [
    {
     "data": {
      "text/plain": "42.74809160305343"
     },
     "execution_count": 15,
     "metadata": {},
     "output_type": "execute_result"
    }
   ],
   "source": [
    "(len(actual_stop_closer)/len(gen_stop_closer))*100"
   ]
  },
  {
   "cell_type": "code",
   "execution_count": 16,
   "metadata": {},
   "outputs": [
    {
     "data": {
      "text/plain": "<Figure size 720x720 with 1 Axes>",
      "image/png": "[encoded data removed]"
     },
     "metadata": {
      "needs_background": "light"
     },
     "output_type": "display_data"
    }
   ],
   "source": [
    "fig = plt.figure(figsize=(10, 10))\n",
    "x = ['Actual', 'Generated']\n",
    "energy = [len(actual_stop_closer), len(gen_stop_closer)]\n",
    "\n",
    "x_pos = [i for i, _ in enumerate(x)]\n",
    "\n",
    "plt.bar(x_pos, energy, color=\"green\")\n",
    "plt.xlabel(\"Bus route type\")\n",
    "plt.ylabel(\"Closer stops\")\n",
    "plt.title(\"Difference in closeness of bus stops to sample points\")\n",
    "\n",
    "plt.xticks(x_pos, x);"
   ]
  },
  {
   "cell_type": "markdown",
   "metadata": {},
   "source": [
    "Find the mean distance required to get to the closest actual and generated stops from the list of results.\n",
    "\n",
    "Actual:"
   ]
  },
  {
   "cell_type": "code",
   "execution_count": 17,
   "metadata": {
    "pycharm": {
     "name": "#%%\n"
    }
   },
   "outputs": [
    {
     "data": {
      "text/plain": "3930.695243455498"
     },
     "execution_count": 17,
     "metadata": {},
     "output_type": "execute_result"
    }
   ],
   "source": [
    "avg_distance_to_actual = results_df[\"actual_stops_sp_length\"].mean()\n",
    "avg_distance_to_actual"
   ]
  },
  {
   "cell_type": "markdown",
   "metadata": {},
   "source": [
    "3.9km. Now calculate for the generated stops:"
   ]
  },
  {
   "cell_type": "code",
   "execution_count": 18,
   "metadata": {},
   "outputs": [
    {
     "data": {
      "text/plain": "2855.363723958333"
     },
     "execution_count": 18,
     "metadata": {},
     "output_type": "execute_result"
    }
   ],
   "source": [
    "avg_distance_to_gen = results_df[\"gen_stops_sp_length\"].mean()\n",
    "avg_distance_to_gen"
   ]
  },
  {
   "cell_type": "markdown",
   "metadata": {},
   "source": [
    "2.86km. Check the difference:"
   ]
  },
  {
   "cell_type": "code",
   "execution_count": 19,
   "metadata": {},
   "outputs": [
    {
     "data": {
      "text/plain": "1075.3315194971647"
     },
     "execution_count": 19,
     "metadata": {},
     "output_type": "execute_result"
    }
   ],
   "source": [
    "avg_distance_to_actual-avg_distance_to_gen"
   ]
  },
  {
   "cell_type": "code",
   "execution_count": 20,
   "metadata": {},
   "outputs": [
    {
     "data": {
      "text/plain": "<Figure size 720x720 with 1 Axes>",
      "image/png": "[encoded data removed]"
     },
     "metadata": {
      "needs_background": "light"
     },
     "output_type": "display_data"
    }
   ],
   "source": [
    "fig = plt.figure(figsize=(10, 10))\n",
    "x = results_df[\"actual_stops_sp_length\"]\n",
    "y = results_df[\"gen_stops_sp_length\"]\n",
    "\n",
    "#bins = np.linspace(-10, 10, 30)\n",
    "bins = 20\n",
    "\n",
    "plt.hist([x, y], bins, density=True, label=['Generated', 'Actual'])\n",
    "\n",
    "#plt.hist(y, bins, alpha=0.5, density=True, label=\"Generated\")\n",
    "#plt.hist(x, bins, alpha=0.5, density=True, label=\"Actual\")\n",
    "plt.xlabel('Distance (m)')\n",
    "plt.ylabel('Probability')\n",
    "plt.legend(loc=\"upper right\")\n",
    "plt.show();"
   ]
  },
  {
   "cell_type": "markdown",
   "metadata": {
    "pycharm": {
     "name": "#%% md\n"
    }
   },
   "source": [
    "Find the distance covered by the actual and generated bus routes so that fuel requirements can be calculated.\n",
    "\n",
    "Load the original graph:"
   ]
  },
  {
   "cell_type": "code",
   "execution_count": 2,
   "outputs": [
    {
     "data": {
      "text/plain": "                    y         x       osmid community                    rank  \\\n2114650326  55.057663 -7.403884  2114650326         0   0.0002304475544637878   \n2114650363  55.058671 -7.401458  2114650363         0   0.0005012166713618143   \n2114650574  55.065282 -7.431412  2114650574         0  0.00039074531890811445   \n2114650603  55.056001 -7.403478  2114650603         0   0.0002147939880001362   \n258442518   55.132364 -7.454354   258442518         0  0.00020807192473270327   \n...               ...       ...         ...       ...                     ...   \n1895464217  55.022280 -8.301011  1895464217         9  0.00020824925797252749   \n1878490428  54.931667 -8.419818  1878490428         9  0.00028288951702548035   \n1878490444  54.929254 -8.441124  1878490444         9  0.00028813735045901657   \n1895464579  55.022001 -8.320247  1895464579         9   0.0001534778486489186   \n1445887976  55.021971 -8.318107  1445887976         9   0.0005945866255404477   \n\n                             geometry top_n route_flag  community_route  \\\n2114650326  POINT (-7.40388 55.05766)     0          0            False   \n2114650363  POINT (-7.40146 55.05867)    14          0             True   \n2114650574  POINT (-7.43141 55.06528)     0          0             True   \n2114650603  POINT (-7.40348 55.05600)     0          0            False   \n258442518   POINT (-7.45435 55.13236)     0          0            False   \n...                               ...   ...        ...              ...   \n1895464217  POINT (-8.30101 55.02228)     0          0             True   \n1878490428  POINT (-8.41982 54.93167)     0          0            False   \n1878490444  POINT (-8.44112 54.92925)     0          0            False   \n1895464579  POINT (-8.32025 55.02200)     0          0            False   \n1445887976  POINT (-8.31811 55.02197)    10          0             True   \n\n            community_route_order  connection_route  actual_stop connection  \\\n2114650326                     32             False        False        NaN   \n2114650363                     36             False        False        NaN   \n2114650574                     24             False        False        NaN   \n2114650603                     -1             False        False        NaN   \n258442518                      -1             False        False        NaN   \n...                           ...               ...          ...        ...   \n1895464217                     44             False        False        NaN   \n1878490428                     -1             False        False        NaN   \n1878490444                     -1             False         True        NaN   \n1895464579                     36             False        False        NaN   \n1445887976                     38             False         True        NaN   \n\n           connection_order actual_route_order highway  \n2114650326              NaN                NaN     NaN  \n2114650363              NaN                NaN     NaN  \n2114650574              NaN                NaN     NaN  \n2114650603              NaN                NaN     NaN  \n258442518               NaN                NaN     NaN  \n...                     ...                ...     ...  \n1895464217              NaN                NaN     NaN  \n1878490428              NaN                NaN     NaN  \n1878490444              NaN             LL15-4     NaN  \n1895464579              NaN                NaN     NaN  \n1445887976              NaN             LL21-7     NaN  \n\n[3579 rows x 16 columns]",
      "text/html": "<div>\n<style scoped>\n    .dataframe tbody tr th:only-of-type {\n        vertical-align: middle;\n    }\n\n    .dataframe tbody tr th {\n        vertical-align: top;\n    }\n\n    .dataframe thead th {\n        text-align: right;\n    }\n</style>\n<table border=\"1\" class=\"dataframe\">\n  <thead>\n    <tr style=\"text-align: right;\">\n      <th></th>\n      <th>y</th>\n      <th>x</th>\n      <th>osmid</th>\n      <th>community</th>\n      <th>rank</th>\n      <th>geometry</th>\n      <th>top_n</th>\n      <th>route_flag</th>\n      <th>community_route</th>\n      <th>community_route_order</th>\n      <th>connection_route</th>\n      <th>actual_stop</th>\n      <th>connection</th>\n      <th>connection_order</th>\n      <th>actual_route_order</th>\n      <th>highway</th>\n    </tr>\n  </thead>\n  <tbody>\n    <tr>\n      <th>2114650326</th>\n      <td>55.057663</td>\n      <td>-7.403884</td>\n      <td>2114650326</td>\n      <td>0</td>\n      <td>0.0002304475544637878</td>\n      <td>POINT (-7.40388 55.05766)</td>\n      <td>0</td>\n      <td>0</td>\n      <td>False</td>\n      <td>32</td>\n      <td>False</td>\n      <td>False</td>\n      <td>NaN</td>\n      <td>NaN</td>\n      <td>NaN</td>\n      <td>NaN</td>\n    </tr>\n    <tr>\n      <th>2114650363</th>\n      <td>55.058671</td>\n      <td>-7.401458</td>\n      <td>2114650363</td>\n      <td>0</td>\n      <td>0.0005012166713618143</td>\n      <td>POINT (-7.40146 55.05867)</td>\n      <td>14</td>\n      <td>0</td>\n      <td>True</td>\n      <td>36</td>\n      <td>False</td>\n      <td>False</td>\n      <td>NaN</td>\n      <td>NaN</td>\n      <td>NaN</td>\n      <td>NaN</td>\n    </tr>\n    <tr>\n      <th>2114650574</th>\n      <td>55.065282</td>\n      <td>-7.431412</td>\n      <td>2114650574</td>\n      <td>0</td>\n      <td>0.00039074531890811445</td>\n      <td>POINT (-7.43141 55.06528)</td>\n      <td>0</td>\n      <td>0</td>\n      <td>True</td>\n      <td>24</td>\n      <td>False</td>\n      <td>False</td>\n      <td>NaN</td>\n      <td>NaN</td>\n      <td>NaN</td>\n      <td>NaN</td>\n    </tr>\n    <tr>\n      <th>2114650603</th>\n      <td>55.056001</td>\n      <td>-7.403478</td>\n      <td>2114650603</td>\n      <td>0</td>\n      <td>0.0002147939880001362</td>\n      <td>POINT (-7.40348 55.05600)</td>\n      <td>0</td>\n      <td>0</td>\n      <td>False</td>\n      <td>-1</td>\n      <td>False</td>\n      <td>False</td>\n      <td>NaN</td>\n      <td>NaN</td>\n      <td>NaN</td>\n      <td>NaN</td>\n    </tr>\n    <tr>\n      <th>258442518</th>\n      <td>55.132364</td>\n      <td>-7.454354</td>\n      <td>258442518</td>\n      <td>0</td>\n      <td>0.00020807192473270327</td>\n      <td>POINT (-7.45435 55.13236)</td>\n      <td>0</td>\n      <td>0</td>\n      <td>False</td>\n      <td>-1</td>\n      <td>False</td>\n      <td>False</td>\n      <td>NaN</td>\n      <td>NaN</td>\n      <td>NaN</td>\n      <td>NaN</td>\n    </tr>\n    <tr>\n      <th>...</th>\n      <td>...</td>\n      <td>...</td>\n      <td>...</td>\n      <td>...</td>\n      <td>...</td>\n      <td>...</td>\n      <td>...</td>\n      <td>...</td>\n      <td>...</td>\n      <td>...</td>\n      <td>...</td>\n      <td>...</td>\n      <td>...</td>\n      <td>...</td>\n      <td>...</td>\n      <td>...</td>\n    </tr>\n    <tr>\n      <th>1895464217</th>\n      <td>55.022280</td>\n      <td>-8.301011</td>\n      <td>1895464217</td>\n      <td>9</td>\n      <td>0.00020824925797252749</td>\n      <td>POINT (-8.30101 55.02228)</td>\n      <td>0</td>\n      <td>0</td>\n      <td>True</td>\n      <td>44</td>\n      <td>False</td>\n      <td>False</td>\n      <td>NaN</td>\n      <td>NaN</td>\n      <td>NaN</td>\n      <td>NaN</td>\n    </tr>\n    <tr>\n      <th>1878490428</th>\n      <td>54.931667</td>\n      <td>-8.419818</td>\n      <td>1878490428</td>\n      <td>9</td>\n      <td>0.00028288951702548035</td>\n      <td>POINT (-8.41982 54.93167)</td>\n      <td>0</td>\n      <td>0</td>\n      <td>False</td>\n      <td>-1</td>\n      <td>False</td>\n      <td>False</td>\n      <td>NaN</td>\n      <td>NaN</td>\n      <td>NaN</td>\n      <td>NaN</td>\n    </tr>\n    <tr>\n      <th>1878490444</th>\n      <td>54.929254</td>\n      <td>-8.441124</td>\n      <td>1878490444</td>\n      <td>9</td>\n      <td>0.00028813735045901657</td>\n      <td>POINT (-8.44112 54.92925)</td>\n      <td>0</td>\n      <td>0</td>\n      <td>False</td>\n      <td>-1</td>\n      <td>False</td>\n      <td>True</td>\n      <td>NaN</td>\n      <td>NaN</td>\n      <td>LL15-4</td>\n      <td>NaN</td>\n    </tr>\n    <tr>\n      <th>1895464579</th>\n      <td>55.022001</td>\n      <td>-8.320247</td>\n      <td>1895464579</td>\n      <td>9</td>\n      <td>0.0001534778486489186</td>\n      <td>POINT (-8.32025 55.02200)</td>\n      <td>0</td>\n      <td>0</td>\n      <td>False</td>\n      <td>36</td>\n      <td>False</td>\n      <td>False</td>\n      <td>NaN</td>\n      <td>NaN</td>\n      <td>NaN</td>\n      <td>NaN</td>\n    </tr>\n    <tr>\n      <th>1445887976</th>\n      <td>55.021971</td>\n      <td>-8.318107</td>\n      <td>1445887976</td>\n      <td>9</td>\n      <td>0.0005945866255404477</td>\n      <td>POINT (-8.31811 55.02197)</td>\n      <td>10</td>\n      <td>0</td>\n      <td>True</td>\n      <td>38</td>\n      <td>False</td>\n      <td>True</td>\n      <td>NaN</td>\n      <td>NaN</td>\n      <td>LL21-7</td>\n      <td>NaN</td>\n    </tr>\n  </tbody>\n</table>\n<p>3579 rows × 16 columns</p>\n</div>"
     },
     "execution_count": 2,
     "metadata": {},
     "output_type": "execute_result"
    }
   ],
   "source": [
    "routes_graph = ox.load_graphml(filepath=f\"{config.testing_graphml_path}/actual_routes_added.graphml\")\n",
    "route_nodes, route_edges = ox.graph_to_gdfs(routes_graph)\n",
    "\n",
    "# string to bool\n",
    "bool_replace = {\"True\": True, \"False\": False}\n",
    "route_nodes[\"community_route\"] = route_nodes[\"community_route\"].map(bool_replace).fillna(False)\n",
    "route_nodes[\"connection_route\"] = route_nodes[\"connection_route\"].map(bool_replace).fillna(False)\n",
    "route_nodes[\"actual_stop\"] = route_nodes[\"actual_stop\"].map(bool_replace).fillna(False)\n",
    "\n",
    "# ensure ints where expected\n",
    "route_nodes[\"community_route_order\"] = route_nodes[\"community_route_order\"].astype(int)\n",
    "route_nodes"
   ],
   "metadata": {
    "collapsed": false,
    "pycharm": {
     "name": "#%%\n"
    }
   }
  },
  {
   "cell_type": "markdown",
   "source": [
    "Generated routes\n",
    "\n",
    "Community:\n",
    "\n",
    "Get community route nodes and sort by route order"
   ],
   "metadata": {
    "collapsed": false,
    "pycharm": {
     "name": "#%% md\n"
    }
   }
  },
  {
   "cell_type": "code",
   "execution_count": 3,
   "outputs": [
    {
     "data": {
      "text/plain": "['0', '1', '10', '11', '14', '15', '2', '3', '4', '5', '6', '7', '8', '9']"
     },
     "execution_count": 3,
     "metadata": {},
     "output_type": "execute_result"
    }
   ],
   "source": [
    "community_labels = list(route_nodes[\"community\"].unique())\n",
    "community_labels = [x for x in community_labels if str(x) != \"nan\"]\n",
    "community_labels"
   ],
   "metadata": {
    "collapsed": false,
    "pycharm": {
     "name": "#%%\n"
    }
   }
  },
  {
   "cell_type": "code",
   "execution_count": 4,
   "outputs": [
    {
     "name": "stdout",
     "output_type": "stream",
     "text": [
      "                    y         x       osmid community                    rank  \\\n",
      "262459232   55.116530 -7.460112   262459232         0   0.0006952453004233725   \n",
      "2110993824  55.108519 -7.468899  2110993824         0  0.00012637731175985182   \n",
      "2112562727  55.104847 -7.472255  2112562727         0  0.00019422346858492885   \n",
      "2112562550  55.104540 -7.472658  2112562550         0  0.00023191885408507408   \n",
      "258440720   55.102323 -7.475625   258440720         0  0.00025243842682268344   \n",
      "2112562637  55.099784 -7.477446  2112562637         0  0.00026320998428031267   \n",
      "2112562834  55.098461 -7.477632  2112562834         0   0.0002677939289857593   \n",
      "2114692416  55.090521 -7.477590  2114692416         0   0.0002678747581426052   \n",
      "258430807   55.090303 -7.477391   258430807         0   0.0002635385422318902   \n",
      "2739577689  55.088130 -7.473974  2739577689         0   0.0002530695079664303   \n",
      "2114692276  55.087741 -7.472854  2114692276         0    0.000233162586979399   \n",
      "1979831232  55.087395 -7.471846  1979831232         0   0.0001964201122009847   \n",
      "1979830654  55.087112 -7.471038  1979830654         0  0.00013044337680659035   \n",
      "6302291471  55.086501 -7.469688  6302291471         0   0.0004512294537547666   \n",
      "339828849   55.083777 -7.461891   339828849         0    0.000426038792773569   \n",
      "2114692414  55.082841 -7.461198  2114692414         0  0.00039873329362811723   \n",
      "258430916   55.081058 -7.459388   258430916         0   0.0004970787619327766   \n",
      "2114692923  55.080298 -7.457905  2114692923         0  0.00014841331727983607   \n",
      "2114692649  55.079608 -7.456515  2114692649         0   7.870347207808369e-05   \n",
      "2679019572  55.076603 -7.450661  2679019572         0  0.00022880389255940792   \n",
      "2114649718  55.073951 -7.445559  2114649718         0  0.00021669645456349397   \n",
      "1557357468  55.069879 -7.439963  1557357468         0  0.00038271673337414116   \n",
      "1976663550  55.067292 -7.436135  1976663550         0  0.00037837112447576196   \n",
      "258431037   55.067218 -7.436001   258431037         0   5.732917486280881e-05   \n",
      "2114650574  55.065282 -7.431412  2114650574         0  0.00039074531890811445   \n",
      "2114649685  55.063857 -7.427453  2114649685         0   0.0006195815864062385   \n",
      "2354772221  55.060802 -7.419253  2354772221         0   0.0002979830053388787   \n",
      "258431074   55.060187 -7.417826   258431074         0   0.0001261229018771514   \n",
      "1976663072  55.059649 -7.409963  1976663072         0  0.00018942598293142078   \n",
      "2114649669  55.059560 -7.406095  2114649669         0  0.00022066407891541755   \n",
      "258431117   55.059334 -7.405767   258431117         0   0.0002308761337993012   \n",
      "262482303   55.057558 -7.404308   262482303         0   0.0003352942212602253   \n",
      "2114650326  55.057663 -7.403884  2114650326         0   0.0002304475544637878   \n",
      "2114649822  55.057849 -7.402942  2114649822         0  0.00021965975425168436   \n",
      "2114649983  55.058136 -7.402371  2114649983         0  0.00018747678959137474   \n",
      "2114650088  55.058486 -7.401813  2114650088         0  0.00012255285001503747   \n",
      "2114650363  55.058671 -7.401458  2114650363         0   0.0005012166713618143   \n",
      "1411721776  55.062476 -7.368528  1411721776         0   0.0004812115283366304   \n",
      "529130810   55.062953 -7.358491   529130810         0   4.915767746828503e-05   \n",
      "1411690486  55.062974 -7.358177  1411690486         0   0.0003717078000627976   \n",
      "891663587   55.063451 -7.349881   891663587         0  0.00037335126561348255   \n",
      "2115875593  55.063465 -7.349658  2115875593         0  4.7114325542987996e-05   \n",
      "2115875669  55.063981 -7.339969  2115875669         0  0.00034193064972621044   \n",
      "2115875525  55.063903 -7.331331  2115875525         0  0.00033655979760940165   \n",
      "2115875630  55.063919 -7.322653  2115875630         0  0.00043565482295308925   \n",
      "891663458   55.064329 -7.312996   891663458         0  0.00045930894754106467   \n",
      "824799710   55.064364 -7.312392   824799710         0  0.00012634604299467526   \n",
      "2859800089  55.067610 -7.288375  2859800089         0  0.00019271138726172863   \n",
      "1411703035  55.068052 -7.274517  1411703035         0   0.0002287167689514099   \n",
      "528692201   55.067974 -7.273886   528692201         0   0.0002461633866410062   \n",
      "7313926535  55.067435 -7.270570  7313926535         0   0.0002519951888649494   \n",
      "258661238   55.067258 -7.269158   258661238         0  0.00037141914118099225   \n",
      "1297382815  55.068833 -7.268882  1297382815         0  0.00025191028083573985   \n",
      "155939804   55.070133 -7.268637   155939804         0  0.00024598012402129093   \n",
      "1411714691  55.071294 -7.268170  1411714691         0  0.00022833444735667705   \n",
      "258601516   55.072528 -7.267323   258601516         0  0.00019204859853195135   \n",
      "1411690478  55.073405 -7.266686  1411690478         0  0.00012509115565253096   \n",
      "1411702960  55.074531 -7.265595  1411702960         0   0.0006155701483099439   \n",
      "258601523   55.078196 -7.262014   258601523         0   0.0006139705257041413   \n",
      "\n",
      "                             geometry top_n route_flag  community_route  \\\n",
      "262459232   POINT (-7.46011 55.11653)     2          1             True   \n",
      "2110993824  POINT (-7.46890 55.10852)     0          0            False   \n",
      "2112562727  POINT (-7.47225 55.10485)     0          0            False   \n",
      "2112562550  POINT (-7.47266 55.10454)     0          0            False   \n",
      "258440720   POINT (-7.47562 55.10232)     0          0            False   \n",
      "2112562637  POINT (-7.47745 55.09978)     0          0            False   \n",
      "2112562834  POINT (-7.47763 55.09846)     0          0             True   \n",
      "2114692416  POINT (-7.47759 55.09052)     0          0             True   \n",
      "258430807   POINT (-7.47739 55.09030)     0          0             True   \n",
      "2739577689  POINT (-7.47397 55.08813)     0          0             True   \n",
      "2114692276  POINT (-7.47285 55.08774)     0          0            False   \n",
      "1979831232  POINT (-7.47185 55.08739)     0          0            False   \n",
      "1979830654  POINT (-7.47104 55.08711)     0          0            False   \n",
      "6302291471  POINT (-7.46969 55.08650)     0          0             True   \n",
      "339828849   POINT (-7.46189 55.08378)     0          0             True   \n",
      "2114692414  POINT (-7.46120 55.08284)     0          0             True   \n",
      "258430916   POINT (-7.45939 55.08106)    15          0             True   \n",
      "2114692923  POINT (-7.45791 55.08030)     0          0            False   \n",
      "2114692649  POINT (-7.45651 55.07961)     0          0             True   \n",
      "2679019572  POINT (-7.45066 55.07660)     0          0             True   \n",
      "2114649718  POINT (-7.44556 55.07395)     0          0             True   \n",
      "1557357468  POINT (-7.43996 55.06988)     0          0             True   \n",
      "1976663550  POINT (-7.43614 55.06729)     0          0             True   \n",
      "258431037   POINT (-7.43600 55.06722)     0          0            False   \n",
      "2114650574  POINT (-7.43141 55.06528)     0          0             True   \n",
      "2114649685  POINT (-7.42745 55.06386)     5          0             True   \n",
      "2354772221  POINT (-7.41925 55.06080)     0          0             True   \n",
      "258431074   POINT (-7.41783 55.06019)     0          0            False   \n",
      "1976663072  POINT (-7.40996 55.05965)     0          0            False   \n",
      "2114649669  POINT (-7.40609 55.05956)     0          0            False   \n",
      "258431117   POINT (-7.40577 55.05933)     0          0            False   \n",
      "262482303   POINT (-7.40431 55.05756)     0          0            False   \n",
      "2114650326  POINT (-7.40388 55.05766)     0          0            False   \n",
      "2114649822  POINT (-7.40294 55.05785)     0          0            False   \n",
      "2114649983  POINT (-7.40237 55.05814)     0          0            False   \n",
      "2114650088  POINT (-7.40181 55.05849)     0          0            False   \n",
      "2114650363  POINT (-7.40146 55.05867)    14          0             True   \n",
      "1411721776  POINT (-7.36853 55.06248)     0          0             True   \n",
      "529130810   POINT (-7.35849 55.06295)     0          0            False   \n",
      "1411690486  POINT (-7.35818 55.06297)     0          0             True   \n",
      "891663587   POINT (-7.34988 55.06345)     0          0             True   \n",
      "2115875593  POINT (-7.34966 55.06347)     0          0            False   \n",
      "2115875669  POINT (-7.33997 55.06398)     0          0             True   \n",
      "2115875525  POINT (-7.33133 55.06390)     0          0             True   \n",
      "2115875630  POINT (-7.32265 55.06392)     0          0             True   \n",
      "891663458   POINT (-7.31300 55.06433)     0          0             True   \n",
      "824799710   POINT (-7.31239 55.06436)     0          0             True   \n",
      "2859800089  POINT (-7.28837 55.06761)     0          0             True   \n",
      "1411703035  POINT (-7.27452 55.06805)     0          0            False   \n",
      "528692201   POINT (-7.27389 55.06797)     0          0            False   \n",
      "7313926535  POINT (-7.27057 55.06744)     0          0            False   \n",
      "258661238   POINT (-7.26916 55.06726)     0          0             True   \n",
      "1297382815  POINT (-7.26888 55.06883)     0          0             True   \n",
      "155939804   POINT (-7.26864 55.07013)     0          0            False   \n",
      "1411714691  POINT (-7.26817 55.07129)     0          0            False   \n",
      "258601516   POINT (-7.26732 55.07253)     0          0            False   \n",
      "1411690478  POINT (-7.26669 55.07340)     0          0            False   \n",
      "1411702960  POINT (-7.26559 55.07453)     6          0             True   \n",
      "258601523   POINT (-7.26201 55.07820)     7          2             True   \n",
      "\n",
      "            community_route_order  connection_route  actual_stop connection  \\\n",
      "262459232                       0             False        False        NaN   \n",
      "2110993824                      1             False        False        NaN   \n",
      "2112562727                      2             False        False        NaN   \n",
      "2112562550                      3             False        False        NaN   \n",
      "258440720                       4             False        False        NaN   \n",
      "2112562637                      5             False        False        NaN   \n",
      "2112562834                      6             False        False        NaN   \n",
      "2114692416                      7             False        False        NaN   \n",
      "258430807                       8             False        False        NaN   \n",
      "2739577689                      9             False        False        NaN   \n",
      "2114692276                     10             False        False        NaN   \n",
      "1979831232                     11             False        False        NaN   \n",
      "1979830654                     12             False        False        NaN   \n",
      "6302291471                     13             False        False        NaN   \n",
      "339828849                      14             False        False        NaN   \n",
      "2114692414                     15             False        False        NaN   \n",
      "258430916                      16             False        False        NaN   \n",
      "2114692923                     17             False        False        NaN   \n",
      "2114692649                     18             False        False        NaN   \n",
      "2679019572                     19             False        False        NaN   \n",
      "2114649718                     20             False        False        NaN   \n",
      "1557357468                     21             False        False        NaN   \n",
      "1976663550                     22             False        False        NaN   \n",
      "258431037                      23             False        False        NaN   \n",
      "2114650574                     24             False        False        NaN   \n",
      "2114649685                     25             False        False        NaN   \n",
      "2354772221                     26             False        False        NaN   \n",
      "258431074                      27             False        False        NaN   \n",
      "1976663072                     28             False        False        NaN   \n",
      "2114649669                     29             False        False        NaN   \n",
      "258431117                      30             False        False        NaN   \n",
      "262482303                      31             False        False        NaN   \n",
      "2114650326                     32             False        False        NaN   \n",
      "2114649822                     33             False        False        NaN   \n",
      "2114649983                     34             False        False        NaN   \n",
      "2114650088                     35             False        False        NaN   \n",
      "2114650363                     36             False        False        NaN   \n",
      "1411721776                     37             False        False        NaN   \n",
      "529130810                      38             False        False        NaN   \n",
      "1411690486                     39             False        False        NaN   \n",
      "891663587                      40             False        False        NaN   \n",
      "2115875593                     41             False        False        NaN   \n",
      "2115875669                     42             False        False        NaN   \n",
      "2115875525                     43             False        False        NaN   \n",
      "2115875630                     44             False        False        NaN   \n",
      "891663458                      45             False        False        NaN   \n",
      "824799710                      46             False        False        NaN   \n",
      "2859800089                     47             False        False        NaN   \n",
      "1411703035                     48             False        False        NaN   \n",
      "528692201                      49             False        False        NaN   \n",
      "7313926535                     50             False        False        NaN   \n",
      "258661238                      51             False         True        NaN   \n",
      "1297382815                     52             False        False        NaN   \n",
      "155939804                      53             False        False        NaN   \n",
      "1411714691                     54             False        False        NaN   \n",
      "258601516                      55             False        False        NaN   \n",
      "1411690478                     56             False        False        NaN   \n",
      "1411702960                     57             False        False        NaN   \n",
      "258601523                      58              True        False          c   \n",
      "\n",
      "           connection_order actual_route_order highway  \n",
      "262459232               NaN                NaN     NaN  \n",
      "2110993824              NaN                NaN     NaN  \n",
      "2112562727              NaN                NaN     NaN  \n",
      "2112562550              NaN                NaN     NaN  \n",
      "258440720               NaN                NaN     NaN  \n",
      "2112562637              NaN                NaN     NaN  \n",
      "2112562834              NaN                NaN     NaN  \n",
      "2114692416              NaN                NaN     NaN  \n",
      "258430807               NaN                NaN     NaN  \n",
      "2739577689              NaN                NaN     NaN  \n",
      "2114692276              NaN                NaN     NaN  \n",
      "1979831232              NaN                NaN     NaN  \n",
      "1979830654              NaN                NaN     NaN  \n",
      "6302291471              NaN                NaN     NaN  \n",
      "339828849               NaN                NaN     NaN  \n",
      "2114692414              NaN                NaN     NaN  \n",
      "258430916               NaN                NaN     NaN  \n",
      "2114692923              NaN                NaN     NaN  \n",
      "2114692649              NaN                NaN     NaN  \n",
      "2679019572              NaN                NaN     NaN  \n",
      "2114649718              NaN                NaN     NaN  \n",
      "1557357468              NaN                NaN     NaN  \n",
      "1976663550              NaN                NaN     NaN  \n",
      "258431037               NaN                NaN     NaN  \n",
      "2114650574              NaN                NaN     NaN  \n",
      "2114649685              NaN                NaN     NaN  \n",
      "2354772221              NaN                NaN     NaN  \n",
      "258431074               NaN                NaN     NaN  \n",
      "1976663072              NaN                NaN     NaN  \n",
      "2114649669              NaN                NaN     NaN  \n",
      "258431117               NaN                NaN     NaN  \n",
      "262482303               NaN                NaN     NaN  \n",
      "2114650326              NaN                NaN     NaN  \n",
      "2114649822              NaN                NaN     NaN  \n",
      "2114649983              NaN                NaN     NaN  \n",
      "2114650088              NaN                NaN     NaN  \n",
      "2114650363              NaN                NaN     NaN  \n",
      "1411721776              NaN                NaN     NaN  \n",
      "529130810               NaN                NaN     NaN  \n",
      "1411690486              NaN                NaN     NaN  \n",
      "891663587               NaN                NaN     NaN  \n",
      "2115875593              NaN                NaN     NaN  \n",
      "2115875669              NaN                NaN     NaN  \n",
      "2115875525              NaN                NaN     NaN  \n",
      "2115875630              NaN                NaN     NaN  \n",
      "891663458               NaN                NaN     NaN  \n",
      "824799710               NaN                NaN     NaN  \n",
      "2859800089              NaN                NaN     NaN  \n",
      "1411703035              NaN                NaN     NaN  \n",
      "528692201               NaN                NaN     NaN  \n",
      "7313926535              NaN                NaN     NaN  \n",
      "258661238               NaN             LL11-4     NaN  \n",
      "1297382815              NaN                NaN     NaN  \n",
      "155939804               NaN                NaN     NaN  \n",
      "1411714691              NaN                NaN     NaN  \n",
      "258601516               NaN                NaN     NaN  \n",
      "1411690478              NaN                NaN     NaN  \n",
      "1411702960              NaN                NaN     NaN  \n",
      "258601523               c-0                NaN     NaN  \n",
      "                    y         x       osmid community                    rank  \\\n",
      "258453962   55.343979 -7.317372   258453962         1   0.0007478161903782531   \n",
      "258453976   55.343723 -7.318181   258453976         1   8.608112708368917e-05   \n",
      "258454085   55.329112 -7.313491   258454085         1  0.00038004775756266646   \n",
      "258454102   55.327235 -7.312487   258454102         1   0.0003357784240615694   \n",
      "309927034   55.323490 -7.318205   309927034         1  0.00014385277920235312   \n",
      "...               ...       ...         ...       ...                     ...   \n",
      "258670143   55.238824 -7.147027   258670143         1   0.0003712839435399677   \n",
      "2417738470  55.240290 -7.148051  2417738470         1  0.00018052777699050458   \n",
      "1681837192  55.241676 -7.148982  1681837192         1  0.00013994898853489411   \n",
      "2421922364  55.244721 -7.151019  2421922364         1   0.0004280482144510293   \n",
      "1574232524  55.258801 -7.147864  1574232524         1   0.0008153067340908409   \n",
      "\n",
      "                             geometry top_n route_flag  community_route  \\\n",
      "258453962   POINT (-7.31737 55.34398)     8          1             True   \n",
      "258453976   POINT (-7.31818 55.34372)     0          0            False   \n",
      "258454085   POINT (-7.31349 55.32911)     0          0            False   \n",
      "258454102   POINT (-7.31249 55.32724)     0          0            False   \n",
      "309927034   POINT (-7.31820 55.32349)     0          0            False   \n",
      "...                               ...   ...        ...              ...   \n",
      "258670143   POINT (-7.14703 55.23882)     0          0             True   \n",
      "2417738470  POINT (-7.14805 55.24029)     0          0            False   \n",
      "1681837192  POINT (-7.14898 55.24168)     0          0            False   \n",
      "2421922364  POINT (-7.15102 55.24472)     0          0            False   \n",
      "1574232524  POINT (-7.14786 55.25880)     4          2             True   \n",
      "\n",
      "            community_route_order  connection_route  actual_stop connection  \\\n",
      "258453962                       0             False        False        NaN   \n",
      "258453976                       1             False        False        NaN   \n",
      "258454085                       2             False        False        NaN   \n",
      "258454102                       3             False        False        NaN   \n",
      "309927034                       4             False        False        NaN   \n",
      "...                           ...               ...          ...        ...   \n",
      "258670143                     106              True        False          c   \n",
      "2417738470                    107             False        False          c   \n",
      "1681837192                    108             False        False          c   \n",
      "2421922364                    109             False        False          c   \n",
      "1574232524                    110              True        False          c   \n",
      "\n",
      "           connection_order actual_route_order highway  \n",
      "258453962               NaN                NaN     NaN  \n",
      "258453976               NaN                NaN     NaN  \n",
      "258454085               NaN                NaN     NaN  \n",
      "258454102               NaN                NaN     NaN  \n",
      "309927034               NaN                NaN     NaN  \n",
      "...                     ...                ...     ...  \n",
      "258670143             c-105                NaN     NaN  \n",
      "2417738470            c-106                NaN     NaN  \n",
      "1681837192            c-107                NaN     NaN  \n",
      "2421922364            c-108                NaN     NaN  \n",
      "1574232524            c-109                NaN     NaN  \n",
      "\n",
      "[111 rows x 16 columns]\n",
      "                    y         x       osmid community                    rank  \\\n",
      "1898286788  55.034133 -7.587842  1898286788        10   0.0007360907343096448   \n",
      "1898313646  55.036568 -7.612541  1898313646        10   0.0004726837039862679   \n",
      "1899131846  55.036690 -7.622175  1899131846        10   0.0001254220192471256   \n",
      "7179352924  55.036453 -7.626455  7179352924        10  0.00018909268850458825   \n",
      "7151424063  55.037615 -7.629250  7151424063        10   0.0002217204600211032   \n",
      "...               ...       ...         ...       ...                     ...   \n",
      "788872000   54.946776 -7.730733   788872000        10   0.0003631290173395418   \n",
      "703791686   54.946861 -7.732199   703791686        10   0.0002617891838070194   \n",
      "729744280   54.946056 -7.737679   729744280        10   0.0002312850089132845   \n",
      "705565489   54.946010 -7.738318   705565489        10   0.0001737783164868724   \n",
      "788873005   54.945378 -7.740528   788873005        10   0.0006238826825071857   \n",
      "\n",
      "                             geometry top_n route_flag  community_route  \\\n",
      "1898286788  POINT (-7.58784 55.03413)     5          1             True   \n",
      "1898313646  POINT (-7.61254 55.03657)     0          0             True   \n",
      "1899131846  POINT (-7.62218 55.03669)     0          0            False   \n",
      "7179352924  POINT (-7.62646 55.03645)     0          0            False   \n",
      "7151424063  POINT (-7.62925 55.03761)     0          0            False   \n",
      "...                               ...   ...        ...              ...   \n",
      "788872000   POINT (-7.73073 54.94678)     0          0            False   \n",
      "703791686   POINT (-7.73220 54.94686)     0          0            False   \n",
      "729744280   POINT (-7.73768 54.94606)     0          0            False   \n",
      "705565489   POINT (-7.73832 54.94601)     0          0            False   \n",
      "788873005   POINT (-7.74053 54.94538)    10          2             True   \n",
      "\n",
      "            community_route_order  connection_route  actual_stop connection  \\\n",
      "1898286788                      0             False        False        NaN   \n",
      "1898313646                      1             False        False        NaN   \n",
      "1899131846                      2             False        False        NaN   \n",
      "7179352924                      3             False        False        NaN   \n",
      "7151424063                      4             False        False        NaN   \n",
      "...                           ...               ...          ...        ...   \n",
      "788872000                     106             False        False        NaN   \n",
      "703791686                     107             False        False        NaN   \n",
      "729744280                     108             False        False        NaN   \n",
      "705565489                     109             False        False        NaN   \n",
      "788873005                     110             False        False        NaN   \n",
      "\n",
      "           connection_order actual_route_order          highway  \n",
      "1898286788              NaN                NaN              NaN  \n",
      "1898313646              NaN                NaN              NaN  \n",
      "1899131846              NaN                NaN              NaN  \n",
      "7179352924              NaN                NaN              NaN  \n",
      "7151424063              NaN                NaN              NaN  \n",
      "...                     ...                ...              ...  \n",
      "788872000               NaN                NaN              NaN  \n",
      "703791686               NaN                NaN              NaN  \n",
      "729744280               NaN                NaN              NaN  \n",
      "705565489               NaN                NaN              NaN  \n",
      "788873005               NaN                NaN  mini_roundabout  \n",
      "\n",
      "[111 rows x 16 columns]\n",
      "                    y         x       osmid community                    rank  \\\n",
      "2113423914  55.145810 -7.450275  2113423914        11   0.0006140181838969793   \n",
      "2113424031  55.145547 -7.450427  2113424031        11   0.0001214480659775185   \n",
      "2113423909  55.144437 -7.451006  2113423909        11  0.00018588882038032153   \n",
      "2112886676  55.142675 -7.452939  2112886676        11  0.00021823429201742482   \n",
      "258440466   55.141320 -7.454163   258440466        11   0.0003410315910238541   \n",
      "...               ...       ...         ...       ...                     ...   \n",
      "258438441   55.280690 -7.392676   258438441        11   0.0005982146597658775   \n",
      "258438381   55.285349 -7.368976   258438381        11  0.00019761482048330687   \n",
      "258438351   55.285265 -7.359919   258438351        11   4.831338119121122e-05   \n",
      "1989496449  55.279283 -7.345990  1989496449        11   0.0002788136149297248   \n",
      "258438279   55.276962 -7.337777   258438279        11   0.0005849382994212507   \n",
      "\n",
      "                             geometry top_n route_flag  community_route  \\\n",
      "2113423914  POINT (-7.45028 55.14581)     5          1             True   \n",
      "2113424031  POINT (-7.45043 55.14555)     0          0            False   \n",
      "2113423909  POINT (-7.45101 55.14444)     0          0            False   \n",
      "2112886676  POINT (-7.45294 55.14268)     0          0            False   \n",
      "258440466   POINT (-7.45416 55.14132)     0          0            False   \n",
      "...                               ...   ...        ...              ...   \n",
      "258438441   POINT (-7.39268 55.28069)     7          0             True   \n",
      "258438381   POINT (-7.36898 55.28535)     0          0             True   \n",
      "258438351   POINT (-7.35992 55.28526)     0          0             True   \n",
      "1989496449  POINT (-7.34599 55.27928)     0          0             True   \n",
      "258438279   POINT (-7.33778 55.27696)    10          2             True   \n",
      "\n",
      "            community_route_order  connection_route  actual_stop connection  \\\n",
      "2113423914                      0             False        False        NaN   \n",
      "2113424031                      1             False        False        NaN   \n",
      "2113423909                      2             False        False        NaN   \n",
      "2112886676                      3             False        False        NaN   \n",
      "258440466                       4             False        False        NaN   \n",
      "...                           ...               ...          ...        ...   \n",
      "258438441                      67             False         True        NaN   \n",
      "258438381                      68             False        False        NaN   \n",
      "258438351                      69             False        False        NaN   \n",
      "1989496449                     70             False        False        NaN   \n",
      "258438279                      71             False        False        NaN   \n",
      "\n",
      "           connection_order actual_route_order highway  \n",
      "2113423914              NaN                NaN     NaN  \n",
      "2113424031              NaN                NaN     NaN  \n",
      "2113423909              NaN                NaN     NaN  \n",
      "2112886676              NaN                NaN     NaN  \n",
      "258440466               NaN                NaN     NaN  \n",
      "...                     ...                ...     ...  \n",
      "258438441               NaN             LL13-3     NaN  \n",
      "258438381               NaN                NaN     NaN  \n",
      "258438351               NaN                NaN     NaN  \n",
      "1989496449              NaN                NaN     NaN  \n",
      "258438279               NaN                NaN     NaN  \n",
      "\n",
      "[72 rows x 16 columns]\n",
      "                    y         x       osmid community                    rank  \\\n",
      "794807698   55.125735 -7.869462   794807698        14   0.0006771284060073162   \n",
      "736546352   55.120112 -7.889962   736546352        14  0.00045579278690323664   \n",
      "320650854   55.112523 -7.908041   320650854        14  0.00015818290272876756   \n",
      "1885208474  55.116788 -7.906586  1885208474        14   0.0001650585063842952   \n",
      "320650814   55.118189 -7.906022   320650814        14  0.00018406256835189325   \n",
      "...               ...       ...         ...       ...                     ...   \n",
      "1864119935  55.136913 -8.100534  1864119935        14   0.0005384533505837547   \n",
      "799654120   55.136441 -8.104106   799654120        14   0.0005703066603711808   \n",
      "601118072   55.138364 -8.102728   601118072        14  5.3574587946148614e-05   \n",
      "1876210124  55.143246 -8.110809  1876210124        14  0.00048158771486252075   \n",
      "601118054   55.145993 -8.114570   601118054        14   0.0005048137865957919   \n",
      "\n",
      "                             geometry top_n route_flag  community_route  \\\n",
      "794807698   POINT (-7.86946 55.12573)     1          1             True   \n",
      "736546352   POINT (-7.88996 55.12011)     0          0             True   \n",
      "320650854   POINT (-7.90804 55.11252)     0          0             True   \n",
      "1885208474  POINT (-7.90659 55.11679)     0          0             True   \n",
      "320650814   POINT (-7.90602 55.11819)     0          0            False   \n",
      "...                               ...   ...        ...              ...   \n",
      "1864119935  POINT (-8.10053 55.13691)     7          0             True   \n",
      "799654120   POINT (-8.10411 55.13644)     5          0             True   \n",
      "601118072   POINT (-8.10273 55.13836)     0          0            False   \n",
      "1876210124  POINT (-8.11081 55.14325)    15          0             True   \n",
      "601118054   POINT (-8.11457 55.14599)    12          2             True   \n",
      "\n",
      "            community_route_order  connection_route  actual_stop connection  \\\n",
      "794807698                       0             False        False        NaN   \n",
      "736546352                       1             False        False        NaN   \n",
      "320650854                       2             False        False        NaN   \n",
      "1885208474                      3             False        False        NaN   \n",
      "320650814                       4             False        False        NaN   \n",
      "...                           ...               ...          ...        ...   \n",
      "1864119935                     78             False        False        NaN   \n",
      "799654120                      79             False         True        NaN   \n",
      "601118072                      80             False        False        NaN   \n",
      "1876210124                     81             False        False        NaN   \n",
      "601118054                      82             False        False        NaN   \n",
      "\n",
      "           connection_order actual_route_order highway  \n",
      "794807698               NaN                NaN     NaN  \n",
      "736546352               NaN                NaN     NaN  \n",
      "320650854               NaN                NaN     NaN  \n",
      "1885208474              NaN                NaN     NaN  \n",
      "320650814               NaN                NaN     NaN  \n",
      "...                     ...                ...     ...  \n",
      "1864119935              NaN                NaN     NaN  \n",
      "799654120               NaN             LL14-1     NaN  \n",
      "601118072               NaN                NaN     NaN  \n",
      "1876210124              NaN                NaN     NaN  \n",
      "601118054               NaN                NaN     NaN  \n",
      "\n",
      "[83 rows x 16 columns]\n",
      "                    y         x       osmid community                    rank  \\\n",
      "529572744   55.022839 -7.396520   529572744        15   0.0006984663608444362   \n",
      "795641926   55.009088 -7.407025   795641926        15    6.13114724393878e-05   \n",
      "795637185   54.991245 -7.413978   795637185        15  0.00037899131891118925   \n",
      "795634471   54.986119 -7.414586   795634471        15   0.0003884040166082447   \n",
      "2397795714  54.984443 -7.413779  2397795714        15   9.666946691899806e-05   \n",
      "...               ...       ...         ...       ...                     ...   \n",
      "1922391895  54.943508 -7.695723  1922391895        15  0.00018786758486314344   \n",
      "258424104   54.943392 -7.695337   258424104        15  0.00017056750034311318   \n",
      "258424102   54.943332 -7.695283   258424102        15   0.0001719376111898054   \n",
      "2108103595  54.944855 -7.680417  2108103595        15   0.0004007007160652204   \n",
      "2108113902  54.951754 -7.662461  2108113902        15   0.0006163721257700822   \n",
      "\n",
      "                             geometry top_n route_flag  community_route  \\\n",
      "529572744   POINT (-7.39652 55.02284)     2          1             True   \n",
      "795641926   POINT (-7.40702 55.00909)     0          0             True   \n",
      "795637185   POINT (-7.41398 54.99125)     0          0             True   \n",
      "795634471   POINT (-7.41459 54.98612)     0          0             True   \n",
      "2397795714  POINT (-7.41378 54.98444)     0          0            False   \n",
      "...                               ...   ...        ...              ...   \n",
      "1922391895  POINT (-7.69572 54.94351)     0          0            False   \n",
      "258424104   POINT (-7.69534 54.94339)     0          0            False   \n",
      "258424102   POINT (-7.69528 54.94333)     0          0            False   \n",
      "2108103595  POINT (-7.68042 54.94486)     0          0             True   \n",
      "2108113902  POINT (-7.66246 54.95175)     5          2             True   \n",
      "\n",
      "            community_route_order  connection_route  actual_stop connection  \\\n",
      "529572744                       0             False        False        NaN   \n",
      "795641926                       1             False        False        NaN   \n",
      "795637185                       2             False        False        NaN   \n",
      "795634471                       3             False        False        NaN   \n",
      "2397795714                      4             False        False        NaN   \n",
      "...                           ...               ...          ...        ...   \n",
      "1922391895                     99             False        False          d   \n",
      "258424104                     100             False        False          d   \n",
      "258424102                     101             False        False          d   \n",
      "2108103595                    102              True        False          d   \n",
      "2108113902                    103              True        False          d   \n",
      "\n",
      "           connection_order actual_route_order highway  \n",
      "529572744               NaN                NaN     NaN  \n",
      "795641926               NaN                NaN     NaN  \n",
      "795637185               NaN                NaN     NaN  \n",
      "795634471               NaN                NaN     NaN  \n",
      "2397795714              NaN                NaN     NaN  \n",
      "...                     ...                ...     ...  \n",
      "1922391895            d-100                NaN     NaN  \n",
      "258424104             d-101                NaN     NaN  \n",
      "258424102             d-102                NaN     NaN  \n",
      "2108103595            d-103                NaN     NaN  \n",
      "2108113902            d-104                NaN     NaN  \n",
      "\n",
      "[104 rows x 16 columns]\n",
      "                    y         x       osmid community                    rank  \\\n",
      "1909072654  54.799760 -7.574902  1909072654         2   0.0006677967066432628   \n",
      "1909072634  54.799893 -7.575452  1909072634         2  0.00023786793480711695   \n",
      "1329128744  54.800835 -7.581475  1329128744         2  0.00011603637714249559   \n",
      "6987390174  54.802735 -7.586728  6987390174         2   0.0001598543201380714   \n",
      "1592553598  54.802801 -7.587003  1592553598         2  0.00016153540279466804   \n",
      "...               ...       ...         ...       ...                     ...   \n",
      "1330118301  54.797917 -7.779906  1330118301         2   0.0001864892386617176   \n",
      "1330141813  54.798347 -7.780733  1330141813         2  0.00016986669346134284   \n",
      "1330118052  54.798439 -7.780884  1330118052         2  0.00011458789078043149   \n",
      "1369496937  54.798767 -7.781418  1369496937         2   0.0007078733408215851   \n",
      "1369496941  54.799424 -7.782013  1369496941         2   0.0007257969934300328   \n",
      "\n",
      "                             geometry top_n route_flag  community_route  \\\n",
      "1909072654  POINT (-7.57490 54.79976)     7          1             True   \n",
      "1909072634  POINT (-7.57545 54.79989)     0          0            False   \n",
      "1329128744  POINT (-7.58148 54.80084)     0          0            False   \n",
      "6987390174  POINT (-7.58673 54.80274)     0          0            False   \n",
      "1592553598  POINT (-7.58700 54.80280)     0          0            False   \n",
      "...                               ...   ...        ...              ...   \n",
      "1330118301  POINT (-7.77991 54.79792)     0          0            False   \n",
      "1330141813  POINT (-7.78073 54.79835)     0          0            False   \n",
      "1330118052  POINT (-7.78088 54.79844)     0          0            False   \n",
      "1369496937  POINT (-7.78142 54.79877)     6          0             True   \n",
      "1369496941  POINT (-7.78201 54.79942)     5          2             True   \n",
      "\n",
      "            community_route_order  connection_route  actual_stop connection  \\\n",
      "1909072654                      0             False        False        NaN   \n",
      "1909072634                      1             False        False        NaN   \n",
      "1329128744                      2             False        False        NaN   \n",
      "6987390174                      3             False        False        NaN   \n",
      "1592553598                      4             False        False        NaN   \n",
      "...                           ...               ...          ...        ...   \n",
      "1330118301                     64             False        False        NaN   \n",
      "1330141813                     65             False        False        NaN   \n",
      "1330118052                     66             False        False        NaN   \n",
      "1369496937                     67             False        False        NaN   \n",
      "1369496941                     68              True        False          d   \n",
      "\n",
      "           connection_order actual_route_order highway  \n",
      "1909072654              NaN                NaN     NaN  \n",
      "1909072634              NaN                NaN     NaN  \n",
      "1329128744              NaN                NaN     NaN  \n",
      "6987390174              NaN                NaN     NaN  \n",
      "1592553598              NaN                NaN     NaN  \n",
      "...                     ...                ...     ...  \n",
      "1330118301              NaN                NaN     NaN  \n",
      "1330141813              NaN                NaN     NaN  \n",
      "1330118052              NaN                NaN     NaN  \n",
      "1369496937              NaN                NaN     NaN  \n",
      "1369496941              d-0                NaN     NaN  \n",
      "\n",
      "[69 rows x 16 columns]\n",
      "                    y         x       osmid community                    rank  \\\n",
      "1885743379  55.194521 -7.839698  1885743379         3    0.000596821683873413   \n",
      "378379042   55.194970 -7.838348   378379042         3   0.0005900155305454223   \n",
      "2930582737  55.194899 -7.837890  2930582737         3  0.00011645524986428108   \n",
      "2930582736  55.194847 -7.837508  2930582736         3   0.0001635541589721461   \n",
      "2924614229  55.194817 -7.836365  2924614229         3  0.00016982385068293308   \n",
      "...               ...       ...         ...       ...                     ...   \n",
      "1592563256  55.073654 -7.597494  1592563256         3  0.00034270136981245144   \n",
      "1433943553  55.074660 -7.595977  1433943553         3  0.00012900628809843511   \n",
      "1890641877  55.074994 -7.595465  1890641877         3   8.281476815962781e-05   \n",
      "1899088507  55.078643 -7.589951  1899088507         3   0.0005325023831715301   \n",
      "1892010032  55.082716 -7.582585  1892010032         3   0.0006410117882121715   \n",
      "\n",
      "                             geometry top_n route_flag  community_route  \\\n",
      "1885743379  POINT (-7.83970 55.19452)    11          1             True   \n",
      "378379042   POINT (-7.83835 55.19497)     0          0             True   \n",
      "2930582737  POINT (-7.83789 55.19490)     0          0            False   \n",
      "2930582736  POINT (-7.83751 55.19485)     0          0            False   \n",
      "2924614229  POINT (-7.83636 55.19482)     0          0            False   \n",
      "...                               ...   ...        ...              ...   \n",
      "1592563256  POINT (-7.59749 55.07365)     0          0             True   \n",
      "1433943553  POINT (-7.59598 55.07466)     0          0            False   \n",
      "1890641877  POINT (-7.59547 55.07499)     0          0            False   \n",
      "1899088507  POINT (-7.58995 55.07864)     0          0             True   \n",
      "1892010032  POINT (-7.58258 55.08272)     8          2             True   \n",
      "\n",
      "            community_route_order  connection_route  actual_stop connection  \\\n",
      "1885743379                      0             False         True        NaN   \n",
      "378379042                       1             False         True        NaN   \n",
      "2930582737                      2             False        False        NaN   \n",
      "2930582736                      3             False        False        NaN   \n",
      "2924614229                      4             False         True        NaN   \n",
      "...                           ...               ...          ...        ...   \n",
      "1592563256                    105             False        False        NaN   \n",
      "1433943553                    106             False        False        NaN   \n",
      "1890641877                    107             False        False        NaN   \n",
      "1899088507                    108             False        False        NaN   \n",
      "1892010032                    109             False        False        NaN   \n",
      "\n",
      "           connection_order actual_route_order highway  \n",
      "1885743379              NaN     LL22-4, LL22-5     NaN  \n",
      "378379042               NaN             LL22-6     NaN  \n",
      "2930582737              NaN                NaN     NaN  \n",
      "2930582736              NaN                NaN     NaN  \n",
      "2924614229              NaN    LL22-2, LL22-11     NaN  \n",
      "...                     ...                ...     ...  \n",
      "1592563256              NaN                NaN     NaN  \n",
      "1433943553              NaN                NaN     NaN  \n",
      "1890641877              NaN                NaN     NaN  \n",
      "1899088507              NaN                NaN     NaN  \n",
      "1892010032              NaN                NaN     NaN  \n",
      "\n",
      "[110 rows x 16 columns]\n",
      "                    y         x       osmid community                    rank  \\\n",
      "2031126838  54.700451 -8.714760  2031126838         4   0.0006252125397542372   \n",
      "1506416700  54.675400 -8.676084  1506416700         4   0.0008366293541521527   \n",
      "3076008966  54.663694 -8.663616  3076008966         4  0.00012800939371556717   \n",
      "507664499   54.656203 -8.643967   507664499         4  0.00026673580167370207   \n",
      "1991071200  54.658174 -8.634962  1991071200         4  0.00020649470199830247   \n",
      "...               ...       ...         ...       ...                     ...   \n",
      "1918385384  54.649631 -8.295554  1918385384         4   0.0003929972323704047   \n",
      "2020241478  54.649700 -8.295391  2020241478         4   9.369579934812914e-05   \n",
      "262547621   54.653871 -8.285838   262547621         4  0.00016270900032180883   \n",
      "2020241422  54.655395 -8.286352  2020241422         4  0.00034175638235953214   \n",
      "3816874303  54.660097 -8.289558  3816874303         4    0.000668272885288074   \n",
      "\n",
      "                             geometry top_n route_flag  community_route  \\\n",
      "2031126838  POINT (-8.71476 54.70045)     9          1             True   \n",
      "1506416700  POINT (-8.67608 54.67540)     3          0             True   \n",
      "3076008966  POINT (-8.66362 54.66369)     0          0             True   \n",
      "507664499   POINT (-8.64397 54.65620)     0          0             True   \n",
      "1991071200  POINT (-8.63496 54.65817)     0          0            False   \n",
      "...                               ...   ...        ...              ...   \n",
      "1918385384  POINT (-8.29555 54.64963)     0          0             True   \n",
      "2020241478  POINT (-8.29539 54.64970)     0          0             True   \n",
      "262547621   POINT (-8.28584 54.65387)     0          0             True   \n",
      "2020241422  POINT (-8.28635 54.65539)     0          0             True   \n",
      "3816874303  POINT (-8.28956 54.66010)     8          2             True   \n",
      "\n",
      "            community_route_order  connection_route  actual_stop connection  \\\n",
      "2031126838                      0              True        False          a   \n",
      "1506416700                      1             False        False        NaN   \n",
      "3076008966                      2             False        False        NaN   \n",
      "507664499                       3             False        False        NaN   \n",
      "1991071200                      4             False        False        NaN   \n",
      "...                           ...               ...          ...        ...   \n",
      "1918385384                    101             False        False        NaN   \n",
      "2020241478                    102             False        False        NaN   \n",
      "262547621                     103             False         True        NaN   \n",
      "2020241422                    104             False        False        NaN   \n",
      "3816874303                    105             False        False        NaN   \n",
      "\n",
      "           connection_order actual_route_order highway  \n",
      "2031126838              a-0                NaN     NaN  \n",
      "1506416700              NaN                NaN     NaN  \n",
      "3076008966              NaN                NaN     NaN  \n",
      "507664499               NaN                NaN     NaN  \n",
      "1991071200              NaN                NaN     NaN  \n",
      "...                     ...                ...     ...  \n",
      "1918385384              NaN                NaN     NaN  \n",
      "2020241478              NaN                NaN     NaN  \n",
      "262547621               NaN             LL23-8     NaN  \n",
      "2020241422              NaN                NaN     NaN  \n",
      "3816874303              NaN                NaN     NaN  \n",
      "\n",
      "[106 rows x 16 columns]\n",
      "                    y         x       osmid community                    rank  \\\n",
      "504701424   54.838289 -8.452235   504701424         5   0.0005909948387135886   \n",
      "324742301   54.837298 -8.444637   324742301         5   0.0005905778203008173   \n",
      "1956322707  54.836991 -8.444260  1956322707         5  0.00011978364995745125   \n",
      "3578705391  54.836965 -8.444232  3578705391         5  0.00017134918887561234   \n",
      "2012372598  54.835305 -8.442197  2012372598         5  0.00018460086528664015   \n",
      "...               ...       ...         ...       ...                     ...   \n",
      "795277780   54.955869 -7.747192   795277780         5  0.00023309381046656913   \n",
      "813437654   54.957219 -7.747660   813437654         5   0.0002929143163600041   \n",
      "780675232   54.957079 -7.746608   780675232         5  0.00012540636857584817   \n",
      "795277251   54.957029 -7.745372   795277251         5   0.0006236815351712915   \n",
      "795277182   54.956931 -7.743693   795277182         5   0.0006256288837547289   \n",
      "\n",
      "                             geometry top_n route_flag  community_route  \\\n",
      "504701424   POINT (-8.45223 54.83829)    11          1             True   \n",
      "324742301   POINT (-8.44464 54.83730)    12          0             True   \n",
      "1956322707  POINT (-8.44426 54.83699)     0          0            False   \n",
      "3578705391  POINT (-8.44423 54.83696)     0          0            False   \n",
      "2012372598  POINT (-8.44220 54.83530)     0          0            False   \n",
      "...                               ...   ...        ...              ...   \n",
      "795277780   POINT (-7.74719 54.95587)     0          0            False   \n",
      "813437654   POINT (-7.74766 54.95722)     0          0            False   \n",
      "780675232   POINT (-7.74661 54.95708)     0          0            False   \n",
      "795277251   POINT (-7.74537 54.95703)     8          0             True   \n",
      "795277182   POINT (-7.74369 54.95693)     7          2             True   \n",
      "\n",
      "            community_route_order  connection_route  actual_stop connection  \\\n",
      "504701424                       0              True        False       a, b   \n",
      "324742301                       1              True        False          a   \n",
      "1956322707                      2             False         True          a   \n",
      "3578705391                      3             False        False          a   \n",
      "2012372598                      4             False        False          a   \n",
      "...                           ...               ...          ...        ...   \n",
      "795277780                      98             False        False        NaN   \n",
      "813437654                      99             False        False        NaN   \n",
      "780675232                     100             False        False        NaN   \n",
      "795277251                     101             False        False        NaN   \n",
      "795277182                     102             False        False        NaN   \n",
      "\n",
      "           connection_order actual_route_order          highway  \n",
      "504701424        a-110, b-0                NaN              NaN  \n",
      "324742301             a-109                NaN              NaN  \n",
      "1956322707            a-108             LL23-2              NaN  \n",
      "3578705391            a-107                NaN              NaN  \n",
      "2012372598            a-106                NaN              NaN  \n",
      "...                     ...                ...              ...  \n",
      "795277780               NaN                NaN              NaN  \n",
      "813437654               NaN                NaN  mini_roundabout  \n",
      "780675232               NaN                NaN              NaN  \n",
      "795277251               NaN                NaN              NaN  \n",
      "795277182               NaN                NaN              NaN  \n",
      "\n",
      "[103 rows x 16 columns]\n",
      "                    y         x       osmid community                    rank  \\\n",
      "1875818978  55.063112 -8.300300  1875818978         6    0.000579034942696556   \n",
      "1875818994  55.065206 -8.299676  1875818994         6   0.0005888430175555785   \n",
      "1875927655  55.066455 -8.299226  1875927655         6  0.00012139760098720705   \n",
      "1954989747  55.067894 -8.298782  1954989747         6  0.00018467439599745603   \n",
      "1875806670  55.071263 -8.297558  1875806670         6   0.0003204331500773559   \n",
      "...               ...       ...         ...       ...                     ...   \n",
      "1877671676  55.093617 -8.147163  1877671676         6   0.0004190992709178559   \n",
      "1877671750  55.092730 -8.147288  1877671750         6  0.00010145267096394234   \n",
      "1876205782  55.087469 -8.147077  1876205782         6  0.00012826933683568193   \n",
      "1887208735  55.084044 -8.147894  1887208735         6  0.00010187000430841079   \n",
      "302148570   55.069873 -8.150875   302148570         6   0.0005672422063197319   \n",
      "\n",
      "                             geometry top_n route_flag  community_route  \\\n",
      "1875818978  POINT (-8.30030 55.06311)    13          1             True   \n",
      "1875818994  POINT (-8.29968 55.06521)    11          0             True   \n",
      "1875927655  POINT (-8.29923 55.06645)     0          0            False   \n",
      "1954989747  POINT (-8.29878 55.06789)     0          0            False   \n",
      "1875806670  POINT (-8.29756 55.07126)     0          0            False   \n",
      "...                               ...   ...        ...              ...   \n",
      "1877671676  POINT (-8.14716 55.09362)     0          0             True   \n",
      "1877671750  POINT (-8.14729 55.09273)     0          0            False   \n",
      "1876205782  POINT (-8.14708 55.08747)     0          0             True   \n",
      "1887208735  POINT (-8.14789 55.08404)     0          0             True   \n",
      "302148570   POINT (-8.15088 55.06987)    15          2             True   \n",
      "\n",
      "            community_route_order  connection_route  actual_stop connection  \\\n",
      "1875818978                      0             False        False        NaN   \n",
      "1875818994                      1             False        False        NaN   \n",
      "1875927655                      2             False        False        NaN   \n",
      "1954989747                      3             False        False        NaN   \n",
      "1875806670                      4             False        False        NaN   \n",
      "...                           ...               ...          ...        ...   \n",
      "1877671676                    100             False        False        NaN   \n",
      "1877671750                    101             False        False        NaN   \n",
      "1876205782                    102             False        False        NaN   \n",
      "1887208735                    103             False        False        NaN   \n",
      "302148570                     104             False        False        NaN   \n",
      "\n",
      "           connection_order actual_route_order highway  \n",
      "1875818978              NaN                NaN     NaN  \n",
      "1875818994              NaN                NaN     NaN  \n",
      "1875927655              NaN                NaN     NaN  \n",
      "1954989747              NaN                NaN     NaN  \n",
      "1875806670              NaN                NaN     NaN  \n",
      "...                     ...                ...     ...  \n",
      "1877671676              NaN                NaN     NaN  \n",
      "1877671750              NaN                NaN     NaN  \n",
      "1876205782              NaN                NaN     NaN  \n",
      "1887208735              NaN                NaN     NaN  \n",
      "302148570               NaN                NaN     NaN  \n",
      "\n",
      "[105 rows x 16 columns]\n",
      "                    y         x       osmid community                    rank  \\\n",
      "1329136103  54.792535 -7.804250  1329136103         7   0.0005445189886684608   \n",
      "1907316135  54.789025 -7.822192  1907316135         7   0.0005342286714047783   \n",
      "33217468    54.788550 -7.824603    33217468         7    8.38789047784624e-05   \n",
      "1940098359  54.785872 -7.832341  1940098359         7   8.306890931597262e-05   \n",
      "1984100700  54.781752 -7.842286  1984100700         7   0.0004555146416155266   \n",
      "...               ...       ...         ...       ...                     ...   \n",
      "4086811385  54.648386 -8.198522  4086811385         7   0.0002519868441238986   \n",
      "4053749818  54.648818 -8.200285  4053749818         7   0.0001666282551928522   \n",
      "3218325783  54.649538 -8.204900  3218325783         7   0.0001873169720202974   \n",
      "1918678939  54.650186 -8.213307  1918678939         7  0.00046918951251945516   \n",
      "1917593408  54.649346 -8.217015  1917593408         7   0.0005266159424954364   \n",
      "\n",
      "                             geometry top_n route_flag  community_route  \\\n",
      "1329136103  POINT (-7.80425 54.79253)    12          1             True   \n",
      "1907316135  POINT (-7.82219 54.78903)    13          0             True   \n",
      "33217468    POINT (-7.82460 54.78855)     0          0            False   \n",
      "1940098359  POINT (-7.83234 54.78587)     0          0             True   \n",
      "1984100700  POINT (-7.84229 54.78175)     0          0             True   \n",
      "...                               ...   ...        ...              ...   \n",
      "4086811385  POINT (-8.19852 54.64839)     0          0            False   \n",
      "4053749818  POINT (-8.20029 54.64882)     0          0            False   \n",
      "3218325783  POINT (-8.20490 54.64954)     0          0            False   \n",
      "1918678939  POINT (-8.21331 54.65019)     0          0             True   \n",
      "1917593408  POINT (-8.21702 54.64935)    15          2             True   \n",
      "\n",
      "            community_route_order  connection_route  actual_stop connection  \\\n",
      "1329136103                      0             False        False        NaN   \n",
      "1907316135                      1             False        False        NaN   \n",
      "33217468                        2             False        False        NaN   \n",
      "1940098359                      3             False        False        NaN   \n",
      "1984100700                      4             False        False        NaN   \n",
      "...                           ...               ...          ...        ...   \n",
      "4086811385                     82             False        False        NaN   \n",
      "4053749818                     83             False        False        NaN   \n",
      "3218325783                     84             False        False        NaN   \n",
      "1918678939                     85             False        False        NaN   \n",
      "1917593408                     86             False        False        NaN   \n",
      "\n",
      "           connection_order actual_route_order highway  \n",
      "1329136103              NaN                NaN     NaN  \n",
      "1907316135              NaN                NaN     NaN  \n",
      "33217468                NaN                NaN     NaN  \n",
      "1940098359              NaN                NaN     NaN  \n",
      "1984100700              NaN                NaN     NaN  \n",
      "...                     ...                ...     ...  \n",
      "4086811385              NaN                NaN     NaN  \n",
      "4053749818              NaN                NaN     NaN  \n",
      "3218325783              NaN                NaN     NaN  \n",
      "1918678939              NaN                NaN     NaN  \n",
      "1917593408              NaN                NaN     NaN  \n",
      "\n",
      "[87 rows x 16 columns]\n",
      "                    y         x       osmid community                    rank  \\\n",
      "529112576   54.553166 -7.833736   529112576         8   0.0006025493144596103   \n",
      "529112572   54.551903 -7.833418   529112572         8   0.0005030806579298784   \n",
      "529126313   54.549599 -7.832121   529126313         8   0.0001268433439091458   \n",
      "324717306   54.549408 -7.832007   324717306         8   0.0002803169219292495   \n",
      "345006769   54.545099 -7.842713   345006769         8  0.00019185952445927544   \n",
      "...               ...       ...         ...       ...                     ...   \n",
      "33194697    54.471399 -8.271732    33194697         8  0.00026804818960828486   \n",
      "2721825528  54.471149 -8.273257  2721825528         8   0.0001660048719138868   \n",
      "2721825517  54.471051 -8.274612  2721825517         8  0.00011304481430306562   \n",
      "2721825519  54.471064 -8.275539  2721825519         8   0.0008839573847294476   \n",
      "3121637055  54.474466 -8.310279  3121637055         8   0.0008822032730506215   \n",
      "\n",
      "                             geometry top_n route_flag  community_route  \\\n",
      "529112576   POINT (-7.83374 54.55317)    11          1             True   \n",
      "529112572   POINT (-7.83342 54.55190)     0          0             True   \n",
      "529126313   POINT (-7.83212 54.54960)     0          0            False   \n",
      "324717306   POINT (-7.83201 54.54941)     0          0             True   \n",
      "345006769   POINT (-7.84271 54.54510)     0          0             True   \n",
      "...                               ...   ...        ...              ...   \n",
      "33194697    POINT (-8.27173 54.47140)     0          0            False   \n",
      "2721825528  POINT (-8.27326 54.47115)     0          0            False   \n",
      "2721825517  POINT (-8.27461 54.47105)     0          0            False   \n",
      "2721825519  POINT (-8.27554 54.47106)     1          0             True   \n",
      "3121637055  POINT (-8.31028 54.47447)     2          2             True   \n",
      "\n",
      "            community_route_order  connection_route  actual_stop connection  \\\n",
      "529112576                       0             False        False        NaN   \n",
      "529112572                       1             False        False        NaN   \n",
      "529126313                       2             False        False        NaN   \n",
      "324717306                       3             False        False        NaN   \n",
      "345006769                       4             False        False        NaN   \n",
      "...                           ...               ...          ...        ...   \n",
      "33194697                       93             False        False        NaN   \n",
      "2721825528                     94             False        False        NaN   \n",
      "2721825517                     95             False        False        NaN   \n",
      "2721825519                     96             False        False        NaN   \n",
      "3121637055                     97             False        False        NaN   \n",
      "\n",
      "           connection_order actual_route_order highway  \n",
      "529112576               NaN                NaN     NaN  \n",
      "529112572               NaN                NaN     NaN  \n",
      "529126313               NaN                NaN     NaN  \n",
      "324717306               NaN                NaN     NaN  \n",
      "345006769               NaN                NaN     NaN  \n",
      "...                     ...                ...     ...  \n",
      "33194697                NaN                NaN     NaN  \n",
      "2721825528              NaN                NaN     NaN  \n",
      "2721825517              NaN                NaN     NaN  \n",
      "2721825519              NaN                NaN     NaN  \n",
      "3121637055              NaN                NaN     NaN  \n",
      "\n",
      "[98 rows x 16 columns]\n",
      "                    y         x       osmid community                    rank  \\\n",
      "793594516   54.980796 -8.420447   793594516         9   0.0008621659138161109   \n",
      "1880150050  54.981223 -8.422167  1880150050         9   9.969980619535536e-05   \n",
      "504691253   54.984300 -8.427454   504691253         9  0.00019170239979769043   \n",
      "2439260137  54.984584 -8.427405  2439260137         9  0.00011295653547199859   \n",
      "1876761218  54.985102 -8.427275  1876761218         9   0.0004519269894537254   \n",
      "1880470417  54.991157 -8.431199  1880470417         9    0.000445209501822327   \n",
      "1880140513  54.991738 -8.431608  1880140513         9   8.449197269240252e-05   \n",
      "793595079   54.994900 -8.429849   793595079         9   0.0004575573949476969   \n",
      "1880103445  54.996939 -8.420894  1880103445         9  0.00044659837129094285   \n",
      "1880103367  54.998219 -8.414224  1880103367         9   0.0001524707606808933   \n",
      "1880140439  54.998467 -8.413243  1880140439         9  0.00019717429673016823   \n",
      "454684460   55.000478 -8.400153   454684460         9   0.0002115804971546351   \n",
      "2439260085  55.000438 -8.398854  2439260085         9  0.00020277658145945098   \n",
      "454680601   55.001021 -8.397495   454680601         9   0.0002487024055730038   \n",
      "1880110782  55.009804 -8.399261  1880110782         9  0.00016942021866940906   \n",
      "1880054158  55.013948 -8.399410  1880054158         9  0.00020022357594193374   \n",
      "1955155104  55.015318 -8.396643  1955155104         9    0.000536725365167105   \n",
      "1880053936  55.017405 -8.396600  1880053936         9   0.0005119495332287259   \n",
      "1895462753  55.020809 -8.391993  1895462753         9  5.1085332291137046e-05   \n",
      "1626133529  55.021798 -8.391620  1626133529         9   0.0003262488882182188   \n",
      "1879798243  55.025879 -8.392635  1879798243         9  0.00032044027931271376   \n",
      "1879798297  55.030929 -8.381478  1879798297         9   0.0004359091140362116   \n",
      "454677905   55.031114 -8.370473   454677905         9   0.0004586296503797942   \n",
      "1989434192  55.031628 -8.367282  1989434192         9  0.00013084843149599316   \n",
      "1879018138  55.032959 -8.360523  1879018138         9   0.0001943117327917104   \n",
      "1879020078  55.030627 -8.354195  1879020078         9   0.0002292111921907325   \n",
      "1895464083  55.029038 -8.348503  1895464083         9  0.00024381665488275469   \n",
      "454676793   55.027313 -8.342211   454676793         9   0.0002484109425161994   \n",
      "454676785   55.027344 -8.338832   454676785         9   0.0003575737357651568   \n",
      "1989434815  55.025714 -8.334846  1989434815         9   0.0002256196863044736   \n",
      "1989820131  55.024347 -8.333998  1989820131         9  0.00019067375588036913   \n",
      "1989434903  55.020507 -8.336311  1989434903         9  0.00012626504722461687   \n",
      "454697617   55.018193 -8.336066   454697617         9    0.000593045977374509   \n",
      "1879029406  55.017417 -8.331781  1879029406         9    0.000591996103184966   \n",
      "454697587   55.018577 -8.329675   454697587         9  0.00011016555867247124   \n",
      "1895463086  55.021187 -8.322119  1895463086         9  0.00015399450005453745   \n",
      "1895464579  55.022001 -8.320247  1895464579         9   0.0001534778486489186   \n",
      "454697557   55.021994 -8.318952   454697557         9  0.00010846661025927275   \n",
      "1445887976  55.021971 -8.318107  1445887976         9   0.0005945866255404477   \n",
      "1879176981  55.020887 -8.312721  1879176981         9   0.0005965912736698748   \n",
      "1879176558  55.020836 -8.311474  1879176558         9   0.0001221363055556145   \n",
      "1895463923  55.020737 -8.309484  1895463923         9   0.0001852088198358752   \n",
      "1895463941  55.020680 -8.308480  1895463941         9   0.0002153289554498622   \n",
      "1879176917  55.021800 -8.304090  1879176917         9  0.00022174124052317713   \n",
      "1895464217  55.022280 -8.301011  1895464217         9  0.00020824925797252749   \n",
      "1879177065  55.024181 -8.289663  1879177065         9   0.0002528047397068637   \n",
      "454697522   55.024372 -8.288562   454697522         9  0.00012702471791780888   \n",
      "1879177039  55.026722 -8.272813  1879177039         9   0.0004970222919851066   \n",
      "\n",
      "                             geometry top_n route_flag  community_route  \\\n",
      "793594516   POINT (-8.42045 54.98080)     1          1             True   \n",
      "1880150050  POINT (-8.42217 54.98122)     0          0            False   \n",
      "504691253   POINT (-8.42745 54.98430)     0          0            False   \n",
      "2439260137  POINT (-8.42741 54.98458)     0          0            False   \n",
      "1876761218  POINT (-8.42727 54.98510)     0          0            False   \n",
      "1880470417  POINT (-8.43120 54.99116)     0          0            False   \n",
      "1880140513  POINT (-8.43161 54.99174)     0          0            False   \n",
      "793595079   POINT (-8.42985 54.99490)     0          0            False   \n",
      "1880103445  POINT (-8.42089 54.99694)     0          0            False   \n",
      "1880103367  POINT (-8.41422 54.99822)     0          0            False   \n",
      "1880140439  POINT (-8.41324 54.99847)     0          0            False   \n",
      "454684460   POINT (-8.40015 55.00048)     0          0            False   \n",
      "2439260085  POINT (-8.39885 55.00044)     0          0            False   \n",
      "454680601   POINT (-8.39750 55.00102)     0          0            False   \n",
      "1880110782  POINT (-8.39926 55.00980)     0          0            False   \n",
      "1880054158  POINT (-8.39941 55.01395)     0          0            False   \n",
      "1955155104  POINT (-8.39664 55.01532)    13          0             True   \n",
      "1880053936  POINT (-8.39660 55.01741)    14          0             True   \n",
      "1895462753  POINT (-8.39199 55.02081)     0          0            False   \n",
      "1626133529  POINT (-8.39162 55.02180)     0          0            False   \n",
      "1879798243  POINT (-8.39263 55.02588)     0          0             True   \n",
      "1879798297  POINT (-8.38148 55.03093)     0          0             True   \n",
      "454677905   POINT (-8.37047 55.03111)     0          0             True   \n",
      "1989434192  POINT (-8.36728 55.03163)     0          0            False   \n",
      "1879018138  POINT (-8.36052 55.03296)     0          0            False   \n",
      "1879020078  POINT (-8.35419 55.03063)     0          0            False   \n",
      "1895464083  POINT (-8.34850 55.02904)     0          0             True   \n",
      "454676793   POINT (-8.34221 55.02731)     0          0             True   \n",
      "454676785   POINT (-8.33883 55.02734)     0          0            False   \n",
      "1989434815  POINT (-8.33485 55.02571)     0          0            False   \n",
      "1989820131  POINT (-8.33400 55.02435)     0          0            False   \n",
      "1989434903  POINT (-8.33631 55.02051)     0          0            False   \n",
      "454697617   POINT (-8.33607 55.01819)    11          0             True   \n",
      "1879029406  POINT (-8.33178 55.01742)    12          0             True   \n",
      "454697587   POINT (-8.32967 55.01858)     0          0            False   \n",
      "1895463086  POINT (-8.32212 55.02119)     0          0            False   \n",
      "1895464579  POINT (-8.32025 55.02200)     0          0            False   \n",
      "454697557   POINT (-8.31895 55.02199)     0          0            False   \n",
      "1445887976  POINT (-8.31811 55.02197)    10          0             True   \n",
      "1879176981  POINT (-8.31272 55.02089)     9          0             True   \n",
      "1879176558  POINT (-8.31147 55.02084)     0          0            False   \n",
      "1895463923  POINT (-8.30948 55.02074)     0          0            False   \n",
      "1895463941  POINT (-8.30848 55.02068)     0          0            False   \n",
      "1879176917  POINT (-8.30409 55.02180)     0          0            False   \n",
      "1895464217  POINT (-8.30101 55.02228)     0          0             True   \n",
      "1879177065  POINT (-8.28966 55.02418)     0          0             True   \n",
      "454697522   POINT (-8.28856 55.02437)     0          0             True   \n",
      "1879177039  POINT (-8.27281 55.02672)    15          2             True   \n",
      "\n",
      "            community_route_order  connection_route  actual_stop connection  \\\n",
      "793594516                       0              True        False          b   \n",
      "1880150050                      1             False        False        NaN   \n",
      "504691253                       2             False        False        NaN   \n",
      "2439260137                      3             False        False        NaN   \n",
      "1876761218                      4             False        False        NaN   \n",
      "1880470417                      5             False        False        NaN   \n",
      "1880140513                      6             False        False        NaN   \n",
      "793595079                       7             False        False        NaN   \n",
      "1880103445                      8             False         True        NaN   \n",
      "1880103367                      9             False        False        NaN   \n",
      "1880140439                     10             False        False        NaN   \n",
      "454684460                      11             False        False        NaN   \n",
      "2439260085                     12             False        False        NaN   \n",
      "454680601                      13             False        False        NaN   \n",
      "1880110782                     14             False        False        NaN   \n",
      "1880054158                     15             False        False        NaN   \n",
      "1955155104                     16             False        False        NaN   \n",
      "1880053936                     17             False        False        NaN   \n",
      "1895462753                     18             False        False        NaN   \n",
      "1626133529                     19             False        False        NaN   \n",
      "1879798243                     20             False         True        NaN   \n",
      "1879798297                     21             False        False        NaN   \n",
      "454677905                      22             False        False        NaN   \n",
      "1989434192                     23             False        False        NaN   \n",
      "1879018138                     24             False        False        NaN   \n",
      "1879020078                     25             False        False        NaN   \n",
      "1895464083                     26             False         True        NaN   \n",
      "454676793                      27             False        False        NaN   \n",
      "454676785                      28             False        False        NaN   \n",
      "1989434815                     29             False        False        NaN   \n",
      "1989820131                     30             False        False        NaN   \n",
      "1989434903                     31             False        False        NaN   \n",
      "454697617                      32             False        False        NaN   \n",
      "1879029406                     33             False        False        NaN   \n",
      "454697587                      34             False        False        NaN   \n",
      "1895463086                     35             False        False        NaN   \n",
      "1895464579                     36             False        False        NaN   \n",
      "454697557                      37             False        False        NaN   \n",
      "1445887976                     38             False         True        NaN   \n",
      "1879176981                     39             False        False        NaN   \n",
      "1879176558                     40             False        False        NaN   \n",
      "1895463923                     41             False        False        NaN   \n",
      "1895463941                     42             False        False        NaN   \n",
      "1879176917                     43             False        False        NaN   \n",
      "1895464217                     44             False        False        NaN   \n",
      "1879177065                     45             False        False        NaN   \n",
      "454697522                      46             False        False        NaN   \n",
      "1879177039                     47             False        False        NaN   \n",
      "\n",
      "           connection_order actual_route_order highway  \n",
      "793594516             b-108                NaN     NaN  \n",
      "1880150050              NaN                NaN     NaN  \n",
      "504691253               NaN                NaN     NaN  \n",
      "2439260137              NaN                NaN     NaN  \n",
      "1876761218              NaN                NaN     NaN  \n",
      "1880470417              NaN                NaN     NaN  \n",
      "1880140513              NaN                NaN     NaN  \n",
      "793595079               NaN                NaN     NaN  \n",
      "1880103445              NaN             LL21-3     NaN  \n",
      "1880103367              NaN                NaN     NaN  \n",
      "1880140439              NaN                NaN     NaN  \n",
      "454684460               NaN                NaN     NaN  \n",
      "2439260085              NaN                NaN     NaN  \n",
      "454680601               NaN                NaN     NaN  \n",
      "1880110782              NaN                NaN     NaN  \n",
      "1880054158              NaN                NaN     NaN  \n",
      "1955155104              NaN                NaN     NaN  \n",
      "1880053936              NaN                NaN     NaN  \n",
      "1895462753              NaN                NaN     NaN  \n",
      "1626133529              NaN                NaN     NaN  \n",
      "1879798243              NaN             LL21-4     NaN  \n",
      "1879798297              NaN                NaN     NaN  \n",
      "454677905               NaN                NaN     NaN  \n",
      "1989434192              NaN                NaN     NaN  \n",
      "1879018138              NaN                NaN     NaN  \n",
      "1879020078              NaN                NaN     NaN  \n",
      "1895464083              NaN             LL21-5     NaN  \n",
      "454676793               NaN                NaN     NaN  \n",
      "454676785               NaN                NaN     NaN  \n",
      "1989434815              NaN                NaN     NaN  \n",
      "1989820131              NaN                NaN     NaN  \n",
      "1989434903              NaN                NaN     NaN  \n",
      "454697617               NaN                NaN     NaN  \n",
      "1879029406              NaN                NaN     NaN  \n",
      "454697587               NaN                NaN     NaN  \n",
      "1895463086              NaN                NaN     NaN  \n",
      "1895464579              NaN                NaN     NaN  \n",
      "454697557               NaN                NaN     NaN  \n",
      "1445887976              NaN             LL21-7     NaN  \n",
      "1879176981              NaN                NaN     NaN  \n",
      "1879176558              NaN                NaN     NaN  \n",
      "1895463923              NaN                NaN     NaN  \n",
      "1895463941              NaN                NaN     NaN  \n",
      "1879176917              NaN                NaN     NaN  \n",
      "1895464217              NaN                NaN     NaN  \n",
      "1879177065              NaN                NaN     NaN  \n",
      "454697522               NaN                NaN     NaN  \n",
      "1879177039              NaN                NaN     NaN  \n"
     ]
    },
    {
     "data": {
      "text/plain": "14"
     },
     "execution_count": 4,
     "metadata": {},
     "output_type": "execute_result"
    }
   ],
   "source": [
    "community_route_nodes = []\n",
    "for label in community_labels:\n",
    "    nodes = route_nodes[(route_nodes[\"community\"] == label) &\n",
    "                        (route_nodes[\"community_route_order\"] != -1)]\n",
    "    nodes = nodes.sort_values(by=\"community_route_order\")\n",
    "    print(nodes)\n",
    "    community_route_nodes.append(nodes)\n",
    "len(community_route_nodes)"
   ],
   "metadata": {
    "collapsed": false,
    "pycharm": {
     "name": "#%%\n"
    }
   }
  },
  {
   "cell_type": "markdown",
   "source": [
    "Get the path of each community route"
   ],
   "metadata": {
    "collapsed": false,
    "pycharm": {
     "name": "#%% md\n"
    }
   }
  },
  {
   "cell_type": "code",
   "execution_count": 5,
   "outputs": [
    {
     "data": {
      "text/plain": "14"
     },
     "execution_count": 5,
     "metadata": {},
     "output_type": "execute_result"
    }
   ],
   "source": [
    "community_route_paths = [nodes[\"osmid\"].tolist() for nodes in community_route_nodes]\n",
    "len(community_route_paths)"
   ],
   "metadata": {
    "collapsed": false,
    "pycharm": {
     "name": "#%%\n"
    }
   }
  },
  {
   "cell_type": "markdown",
   "source": [
    "Connections:\n",
    "\n",
    "Get connection route nodes and sort by route order"
   ],
   "metadata": {
    "collapsed": false,
    "pycharm": {
     "name": "#%% md\n"
    }
   }
  },
  {
   "cell_type": "code",
   "execution_count": 6,
   "outputs": [
    {
     "data": {
      "text/plain": "                    y         x       osmid community                    rank  \\\n1279748374  54.706386 -8.723325  1279748374         4  0.00017664263353640952   \n\n                             geometry top_n route_flag  community_route  \\\n1279748374  POINT (-8.72333 54.70639)     0          0            False   \n\n            community_route_order  connection_route  actual_stop connection  \\\n1279748374                     -1             False        False          a   \n\n           connection_order actual_route_order highway  \n1279748374              a-2                NaN     NaN  ",
      "text/html": "<div>\n<style scoped>\n    .dataframe tbody tr th:only-of-type {\n        vertical-align: middle;\n    }\n\n    .dataframe tbody tr th {\n        vertical-align: top;\n    }\n\n    .dataframe thead th {\n        text-align: right;\n    }\n</style>\n<table border=\"1\" class=\"dataframe\">\n  <thead>\n    <tr style=\"text-align: right;\">\n      <th></th>\n      <th>y</th>\n      <th>x</th>\n      <th>osmid</th>\n      <th>community</th>\n      <th>rank</th>\n      <th>geometry</th>\n      <th>top_n</th>\n      <th>route_flag</th>\n      <th>community_route</th>\n      <th>community_route_order</th>\n      <th>connection_route</th>\n      <th>actual_stop</th>\n      <th>connection</th>\n      <th>connection_order</th>\n      <th>actual_route_order</th>\n      <th>highway</th>\n    </tr>\n  </thead>\n  <tbody>\n    <tr>\n      <th>1279748374</th>\n      <td>54.706386</td>\n      <td>-8.723325</td>\n      <td>1279748374</td>\n      <td>4</td>\n      <td>0.00017664263353640952</td>\n      <td>POINT (-8.72333 54.70639)</td>\n      <td>0</td>\n      <td>0</td>\n      <td>False</td>\n      <td>-1</td>\n      <td>False</td>\n      <td>False</td>\n      <td>a</td>\n      <td>a-2</td>\n      <td>NaN</td>\n      <td>NaN</td>\n    </tr>\n  </tbody>\n</table>\n</div>"
     },
     "execution_count": 6,
     "metadata": {},
     "output_type": "execute_result"
    }
   ],
   "source": [
    "route_nodes[route_nodes[\"osmid\"] == 1279748374]"
   ],
   "metadata": {
    "collapsed": false,
    "pycharm": {
     "name": "#%%\n"
    }
   }
  },
  {
   "cell_type": "code",
   "execution_count": 7,
   "outputs": [
    {
     "name": "stdout",
     "output_type": "stream",
     "text": [
      "111\n",
      "                    y         x       osmid community                    rank  \\\n",
      "2031126838  54.700451 -8.714760  2031126838         4   0.0006252125397542372   \n",
      "507651123   54.706136 -8.724546   507651123         4  0.00018472189722861063   \n",
      "1279748374  54.706386 -8.723325  1279748374         4  0.00017664263353640952   \n",
      "2031154660  54.706664 -8.721967  2031154660         4   0.0002892484220071071   \n",
      "1994336918  54.708648 -8.718380  1994336918         4  0.00023710239609514865   \n",
      "...               ...       ...         ...       ...                     ...   \n",
      "2012372598  54.835305 -8.442197  2012372598         5  0.00018460086528664015   \n",
      "3578705391  54.836965 -8.444232  3578705391         5  0.00017134918887561234   \n",
      "1956322707  54.836991 -8.444260  1956322707         5  0.00011978364995745125   \n",
      "324742301   54.837298 -8.444637   324742301         5   0.0005905778203008173   \n",
      "504701424   54.838289 -8.452235   504701424         5   0.0005909948387135886   \n",
      "\n",
      "                             geometry top_n route_flag  community_route  \\\n",
      "2031126838  POINT (-8.71476 54.70045)     9          1             True   \n",
      "507651123   POINT (-8.72455 54.70614)     0          0            False   \n",
      "1279748374  POINT (-8.72333 54.70639)     0          0            False   \n",
      "2031154660  POINT (-8.72197 54.70666)     0          0            False   \n",
      "1994336918  POINT (-8.71838 54.70865)     0          0            False   \n",
      "...                               ...   ...        ...              ...   \n",
      "2012372598  POINT (-8.44220 54.83530)     0          0            False   \n",
      "3578705391  POINT (-8.44423 54.83696)     0          0            False   \n",
      "1956322707  POINT (-8.44426 54.83699)     0          0            False   \n",
      "324742301   POINT (-8.44464 54.83730)    12          0             True   \n",
      "504701424   POINT (-8.45223 54.83829)    11          1             True   \n",
      "\n",
      "            community_route_order  connection_route  actual_stop connection  \\\n",
      "2031126838                      0              True        False          a   \n",
      "507651123                      -1             False         True          a   \n",
      "1279748374                     -1             False        False          a   \n",
      "2031154660                     -1             False        False          a   \n",
      "1994336918                     -1             False        False          a   \n",
      "...                           ...               ...          ...        ...   \n",
      "2012372598                      4             False        False          a   \n",
      "3578705391                      3             False        False          a   \n",
      "1956322707                      2             False         True          a   \n",
      "324742301                       1              True        False          a   \n",
      "504701424                       0              True        False       a, b   \n",
      "\n",
      "            connection_order actual_route_order highway  \n",
      "2031126838                 0                NaN     NaN  \n",
      "507651123                  1              LL6-8     NaN  \n",
      "1279748374                 2                NaN     NaN  \n",
      "2031154660                 3                NaN     NaN  \n",
      "1994336918                 4                NaN     NaN  \n",
      "...                      ...                ...     ...  \n",
      "2012372598               106                NaN     NaN  \n",
      "3578705391               107                NaN     NaN  \n",
      "1956322707               108             LL23-2     NaN  \n",
      "324742301                109                NaN     NaN  \n",
      "504701424                110                NaN     NaN  \n",
      "\n",
      "[111 rows x 16 columns]\n",
      "109\n",
      "                    y         x       osmid community                    rank  \\\n",
      "504701424   54.838289 -8.452235   504701424         5   0.0005909948387135886   \n",
      "504701477   54.840834 -8.466972   504701477         5  0.00012555327309946035   \n",
      "2012372645  54.840751 -8.467646  2012372645         5   0.0001846946239073585   \n",
      "504701485   54.839772 -8.469942   504701485         5  0.00021052416146257087   \n",
      "504701490   54.839559 -8.471315   504701490         5  0.00031713242085849944   \n",
      "...               ...       ...         ...       ...                     ...   \n",
      "1880486988  54.965832 -8.411555  1880486988         9  0.00023305863961389233   \n",
      "1877572775  54.969864 -8.416623  1877572775         9   0.0001955797836020136   \n",
      "1880150083  54.975291 -8.416811  1880150083         9  0.00012849122083648156   \n",
      "1877582481  54.980554 -8.419728  1877582481         9   0.0006617968881926551   \n",
      "793594516   54.980796 -8.420447   793594516         9   0.0008621659138161109   \n",
      "\n",
      "                             geometry top_n route_flag  community_route  \\\n",
      "504701424   POINT (-8.45223 54.83829)    11          1             True   \n",
      "504701477   POINT (-8.46697 54.84083)     0          0            False   \n",
      "2012372645  POINT (-8.46765 54.84075)     0          0            False   \n",
      "504701485   POINT (-8.46994 54.83977)     0          0            False   \n",
      "504701490   POINT (-8.47132 54.83956)     0          0            False   \n",
      "...                               ...   ...        ...              ...   \n",
      "1880486988  POINT (-8.41155 54.96583)     0          0            False   \n",
      "1877572775  POINT (-8.41662 54.96986)     0          0            False   \n",
      "1880150083  POINT (-8.41681 54.97529)     0          0            False   \n",
      "1877582481  POINT (-8.41973 54.98055)     2          0            False   \n",
      "793594516   POINT (-8.42045 54.98080)     1          1             True   \n",
      "\n",
      "            community_route_order  connection_route  actual_stop connection  \\\n",
      "504701424                       0              True        False       a, b   \n",
      "504701477                      -1             False         True          b   \n",
      "2012372645                     -1             False        False          b   \n",
      "504701485                      -1             False        False          b   \n",
      "504701490                      -1             False        False          b   \n",
      "...                           ...               ...          ...        ...   \n",
      "1880486988                     -1              True        False          b   \n",
      "1877572775                     -1              True        False          b   \n",
      "1880150083                     -1              True        False          b   \n",
      "1877582481                     -1              True        False          b   \n",
      "793594516                       0              True        False          b   \n",
      "\n",
      "            connection_order actual_route_order highway  \n",
      "504701424                  0                NaN     NaN  \n",
      "504701477                  1             LL23-1     NaN  \n",
      "2012372645                 2                NaN     NaN  \n",
      "504701485                  3                NaN     NaN  \n",
      "504701490                  4                NaN     NaN  \n",
      "...                      ...                ...     ...  \n",
      "1880486988               104                NaN     NaN  \n",
      "1877572775               105                NaN     NaN  \n",
      "1880150083               106                NaN     NaN  \n",
      "1877582481               107                NaN     NaN  \n",
      "793594516                108                NaN     NaN  \n",
      "\n",
      "[109 rows x 16 columns]\n",
      "110\n",
      "                    y         x       osmid community                    rank  \\\n",
      "258601523   55.078196 -7.262014   258601523         0   0.0006139705257041413   \n",
      "1411703020  55.080236 -7.259522  1411703020         0    0.000121854090252805   \n",
      "258601531   55.083195 -7.251692   258601531         0  0.00018417402425828833   \n",
      "1315472999  55.092073 -7.236511  1315472999         0  0.00021349047169070978   \n",
      "1411715929  55.098324 -7.227837  1411715929         0   0.0003273074494427055   \n",
      "...               ...       ...         ...       ...                     ...   \n",
      "258670143   55.238824 -7.147027   258670143         1   0.0003712839435399677   \n",
      "2417738470  55.240290 -7.148051  2417738470         1  0.00018052777699050458   \n",
      "1681837192  55.241676 -7.148982  1681837192         1  0.00013994898853489411   \n",
      "2421922364  55.244721 -7.151019  2421922364         1   0.0004280482144510293   \n",
      "1574232524  55.258801 -7.147864  1574232524         1   0.0008153067340908409   \n",
      "\n",
      "                             geometry top_n route_flag  community_route  \\\n",
      "258601523   POINT (-7.26201 55.07820)     7          2             True   \n",
      "1411703020  POINT (-7.25952 55.08024)     0          0            False   \n",
      "258601531   POINT (-7.25169 55.08319)     0          0            False   \n",
      "1315472999  POINT (-7.23651 55.09207)     0          0            False   \n",
      "1411715929  POINT (-7.22784 55.09832)     0          0            False   \n",
      "...                               ...   ...        ...              ...   \n",
      "258670143   POINT (-7.14703 55.23882)     0          0             True   \n",
      "2417738470  POINT (-7.14805 55.24029)     0          0            False   \n",
      "1681837192  POINT (-7.14898 55.24168)     0          0            False   \n",
      "2421922364  POINT (-7.15102 55.24472)     0          0            False   \n",
      "1574232524  POINT (-7.14786 55.25880)     4          2             True   \n",
      "\n",
      "            community_route_order  connection_route  actual_stop connection  \\\n",
      "258601523                      58              True        False          c   \n",
      "1411703020                     -1             False        False          c   \n",
      "258601531                      -1              True        False          c   \n",
      "1315472999                     -1              True        False          c   \n",
      "1411715929                     -1              True        False          c   \n",
      "...                           ...               ...          ...        ...   \n",
      "258670143                     106              True        False          c   \n",
      "2417738470                    107             False        False          c   \n",
      "1681837192                    108             False        False          c   \n",
      "2421922364                    109             False        False          c   \n",
      "1574232524                    110              True        False          c   \n",
      "\n",
      "            connection_order actual_route_order highway  \n",
      "258601523                  0                NaN     NaN  \n",
      "1411703020                 1                NaN     NaN  \n",
      "258601531                  2                NaN     NaN  \n",
      "1315472999                 3                NaN     NaN  \n",
      "1411715929                 4                NaN     NaN  \n",
      "...                      ...                ...     ...  \n",
      "258670143                105                NaN     NaN  \n",
      "2417738470               106                NaN     NaN  \n",
      "1681837192               107                NaN     NaN  \n",
      "2421922364               108                NaN     NaN  \n",
      "1574232524               109                NaN     NaN  \n",
      "\n",
      "[110 rows x 16 columns]\n",
      "105\n",
      "                    y         x       osmid community                    rank  \\\n",
      "1369496941  54.799424 -7.782013  1369496941         2   0.0007257969934300328   \n",
      "33217503    54.799506 -7.781143    33217503         2   0.0001243312295009246   \n",
      "6991136834  54.799799 -7.779586  6991136834         2   0.0001929545298616903   \n",
      "1330141782  54.800150 -7.778523  1330141782         2    0.000230678263863786   \n",
      "33217514    54.800219 -7.778322    33217514         2  0.00025128120846611287   \n",
      "...               ...       ...         ...       ...                     ...   \n",
      "1922391895  54.943508 -7.695723  1922391895        15  0.00018786758486314344   \n",
      "258424104   54.943392 -7.695337   258424104        15  0.00017056750034311318   \n",
      "258424102   54.943332 -7.695283   258424102        15   0.0001719376111898054   \n",
      "2108103595  54.944855 -7.680417  2108103595        15   0.0004007007160652204   \n",
      "2108113902  54.951754 -7.662461  2108113902        15   0.0006163721257700822   \n",
      "\n",
      "                             geometry top_n route_flag  community_route  \\\n",
      "1369496941  POINT (-7.78201 54.79942)     5          2             True   \n",
      "33217503    POINT (-7.78114 54.79951)     0          0            False   \n",
      "6991136834  POINT (-7.77959 54.79980)     0          0            False   \n",
      "1330141782  POINT (-7.77852 54.80015)     0          0            False   \n",
      "33217514    POINT (-7.77832 54.80022)     0          0            False   \n",
      "...                               ...   ...        ...              ...   \n",
      "1922391895  POINT (-7.69572 54.94351)     0          0            False   \n",
      "258424104   POINT (-7.69534 54.94339)     0          0            False   \n",
      "258424102   POINT (-7.69528 54.94333)     0          0            False   \n",
      "2108103595  POINT (-7.68042 54.94486)     0          0             True   \n",
      "2108113902  POINT (-7.66246 54.95175)     5          2             True   \n",
      "\n",
      "            community_route_order  connection_route  actual_stop connection  \\\n",
      "1369496941                     68              True        False          d   \n",
      "33217503                       -1             False        False          d   \n",
      "6991136834                     -1             False        False          d   \n",
      "1330141782                     -1             False         True          d   \n",
      "33217514                       -1             False        False          d   \n",
      "...                           ...               ...          ...        ...   \n",
      "1922391895                     99             False        False          d   \n",
      "258424104                     100             False        False          d   \n",
      "258424102                     101             False        False          d   \n",
      "2108103595                    102              True        False          d   \n",
      "2108113902                    103              True        False          d   \n",
      "\n",
      "            connection_order actual_route_order highway  \n",
      "1369496941                 0                NaN     NaN  \n",
      "33217503                   1                NaN     NaN  \n",
      "6991136834                 2                NaN     NaN  \n",
      "1330141782                 3      LL3-12, LL4-9     NaN  \n",
      "33217514                   4                NaN     NaN  \n",
      "...                      ...                ...     ...  \n",
      "1922391895               100                NaN     NaN  \n",
      "258424104                101                NaN     NaN  \n",
      "258424102                102                NaN     NaN  \n",
      "2108103595               103                NaN     NaN  \n",
      "2108113902               104                NaN     NaN  \n",
      "\n",
      "[105 rows x 16 columns]\n"
     ]
    },
    {
     "name": "stderr",
     "output_type": "stream",
     "text": [
      "/home/danny/College/donegal-bus-routes/venv1/lib/python3.8/site-packages/geopandas/geodataframe.py:853: SettingWithCopyWarning: \n",
      "A value is trying to be set on a copy of a slice from a DataFrame.\n",
      "Try using .loc[row_indexer,col_indexer] = value instead\n",
      "\n",
      "See the caveats in the documentation: https://pandas.pydata.org/pandas-docs/stable/user_guide/indexing.html#returning-a-view-versus-a-copy\n",
      "  super(GeoDataFrame, self).__setitem__(key, value)\n",
      "<ipython-input-7-36e060477f0e>:8: SettingWithCopyWarning: \n",
      "A value is trying to be set on a copy of a slice from a DataFrame\n",
      "\n",
      "See the caveats in the documentation: https://pandas.pydata.org/pandas-docs/stable/user_guide/indexing.html#returning-a-view-versus-a-copy\n",
      "  nodes.sort_values(by=\"connection_order\", inplace=True)\n",
      "/home/danny/College/donegal-bus-routes/venv1/lib/python3.8/site-packages/geopandas/geodataframe.py:853: SettingWithCopyWarning: \n",
      "A value is trying to be set on a copy of a slice from a DataFrame.\n",
      "Try using .loc[row_indexer,col_indexer] = value instead\n",
      "\n",
      "See the caveats in the documentation: https://pandas.pydata.org/pandas-docs/stable/user_guide/indexing.html#returning-a-view-versus-a-copy\n",
      "  super(GeoDataFrame, self).__setitem__(key, value)\n",
      "<ipython-input-7-36e060477f0e>:8: SettingWithCopyWarning: \n",
      "A value is trying to be set on a copy of a slice from a DataFrame\n",
      "\n",
      "See the caveats in the documentation: https://pandas.pydata.org/pandas-docs/stable/user_guide/indexing.html#returning-a-view-versus-a-copy\n",
      "  nodes.sort_values(by=\"connection_order\", inplace=True)\n",
      "/home/danny/College/donegal-bus-routes/venv1/lib/python3.8/site-packages/geopandas/geodataframe.py:853: SettingWithCopyWarning: \n",
      "A value is trying to be set on a copy of a slice from a DataFrame.\n",
      "Try using .loc[row_indexer,col_indexer] = value instead\n",
      "\n",
      "See the caveats in the documentation: https://pandas.pydata.org/pandas-docs/stable/user_guide/indexing.html#returning-a-view-versus-a-copy\n",
      "  super(GeoDataFrame, self).__setitem__(key, value)\n",
      "<ipython-input-7-36e060477f0e>:8: SettingWithCopyWarning: \n",
      "A value is trying to be set on a copy of a slice from a DataFrame\n",
      "\n",
      "See the caveats in the documentation: https://pandas.pydata.org/pandas-docs/stable/user_guide/indexing.html#returning-a-view-versus-a-copy\n",
      "  nodes.sort_values(by=\"connection_order\", inplace=True)\n",
      "/home/danny/College/donegal-bus-routes/venv1/lib/python3.8/site-packages/geopandas/geodataframe.py:853: SettingWithCopyWarning: \n",
      "A value is trying to be set on a copy of a slice from a DataFrame.\n",
      "Try using .loc[row_indexer,col_indexer] = value instead\n",
      "\n",
      "See the caveats in the documentation: https://pandas.pydata.org/pandas-docs/stable/user_guide/indexing.html#returning-a-view-versus-a-copy\n",
      "  super(GeoDataFrame, self).__setitem__(key, value)\n",
      "<ipython-input-7-36e060477f0e>:8: SettingWithCopyWarning: \n",
      "A value is trying to be set on a copy of a slice from a DataFrame\n",
      "\n",
      "See the caveats in the documentation: https://pandas.pydata.org/pandas-docs/stable/user_guide/indexing.html#returning-a-view-versus-a-copy\n",
      "  nodes.sort_values(by=\"connection_order\", inplace=True)\n"
     ]
    },
    {
     "data": {
      "text/plain": "4"
     },
     "execution_count": 7,
     "metadata": {},
     "output_type": "execute_result"
    }
   ],
   "source": [
    "connection_labels = [\"a\", \"b\", \"c\", \"d\"]\n",
    "connection_route_nodes = []\n",
    "connections = route_nodes[~route_nodes[\"connection\"].isna()]\n",
    "for label in connection_labels:\n",
    "    nodes = connections[connections[\"connection\"].str.contains(label)]\n",
    "    # get correct connection order\n",
    "    nodes[\"connection_order\"] = nodes['connection_order'].str.extract(fr'{label}-(\\d+)').astype(int)\n",
    "    nodes.sort_values(by=\"connection_order\", inplace=True)\n",
    "    print(len(nodes))\n",
    "    print(nodes)\n",
    "    connection_route_nodes.append(nodes)\n",
    "len(connection_route_nodes)"
   ],
   "metadata": {
    "collapsed": false,
    "pycharm": {
     "name": "#%%\n"
    }
   }
  },
  {
   "cell_type": "markdown",
   "source": [
    "Get the path of each connection route"
   ],
   "metadata": {
    "collapsed": false,
    "pycharm": {
     "name": "#%% md\n",
     "is_executing": true
    }
   },
   "outputs": [
    {
     "ename": "SyntaxError",
     "evalue": "invalid syntax (<ipython-input-113-64372ce97b4e>, line 1)",
     "output_type": "error",
     "traceback": [
      "\u001B[0;36m  File \u001B[0;32m\"<ipython-input-113-64372ce97b4e>\"\u001B[0;36m, line \u001B[0;32m1\u001B[0m\n\u001B[0;31m    Get the path of each connection route\u001B[0m\n\u001B[0m        ^\u001B[0m\n\u001B[0;31mSyntaxError\u001B[0m\u001B[0;31m:\u001B[0m invalid syntax\n"
     ]
    }
   ]
  },
  {
   "cell_type": "code",
   "execution_count": 8,
   "outputs": [
    {
     "data": {
      "text/plain": "4"
     },
     "execution_count": 8,
     "metadata": {},
     "output_type": "execute_result"
    }
   ],
   "source": [
    "connection_route_paths = [nodes[\"osmid\"].tolist() for nodes in connection_route_nodes]\n",
    "len(connection_route_paths)"
   ],
   "metadata": {
    "collapsed": false,
    "pycharm": {
     "name": "#%%\n"
    }
   }
  },
  {
   "cell_type": "code",
   "execution_count": 11,
   "outputs": [
    {
     "data": {
      "text/plain": "[19575.177,\n 61154.988000000005,\n 25291.327999999994,\n 33383.246,\n 27342.200999999997,\n 44600.70400000003,\n 34328.91100000001,\n 46496.907,\n 41397.379,\n 57503.60300000001,\n 34856.808,\n 39370.028,\n 53245.745000000024,\n 17360.444,\n 81734.72899999999,\n 71102.66900000001,\n 74931.36200000002,\n 40648.18500000001]"
     },
     "execution_count": 11,
     "metadata": {},
     "output_type": "execute_result"
    }
   ],
   "source": [
    "all_gen_paths = community_route_paths + connection_route_paths\n",
    "path_weights = [route_helper.path_weight(routes_graph, path, weight=\"length\")\n",
    "                    for path in all_gen_paths]\n",
    "path_weights"
   ],
   "metadata": {
    "collapsed": false,
    "pycharm": {
     "name": "#%%\n"
    }
   }
  },
  {
   "cell_type": "code",
   "execution_count": null,
   "outputs": [],
   "source": [],
   "metadata": {
    "collapsed": false,
    "pycharm": {
     "name": "#%%\n"
    }
   }
  },
  {
   "cell_type": "code",
   "execution_count": null,
   "outputs": [],
   "source": [
    "routes = [actual_stops_shortest_path, gen_stops_shortest_path]\n",
    "rc = ['r', 'y']\n",
    "fig, ax = ox.plot_graph_routes(test, routes,\n",
    "                               route_colors=rc,\n",
    "                               route_linewidth=6,\n",
    "                               node_size=0)"
   ],
   "metadata": {
    "collapsed": false,
    "pycharm": {
     "name": "#%%\n"
    }
   }
  },
  {
   "cell_type": "code",
   "execution_count": null,
   "metadata": {
    "pycharm": {
     "name": "#%%\n"
    }
   },
   "outputs": [],
   "source": [
    "import matplotlib.pyplot as plt\n",
    "import cartopy.crs as ccrs\n",
    "\n",
    "sample_node = nodes[nodes[\"osmid\"] == sample_nodes[300]]\n",
    "gen_stops = nodes[nodes[\"community_route\"] == True]\n",
    "ll_stops = nodes[nodes[\"actual_stop\"] == True]\n",
    "fig = plt.figure(figsize=(20, 20))\n",
    "ax = fig.add_subplot(1, 1, 1, projection=ccrs.PlateCarree())\n",
    "ax.set_facecolor(\"black\")\n",
    "\n",
    "plt.rc(\"legend\", fontsize=25,\n",
    "       facecolor=\"black\")\n",
    "\n",
    "edges.plot(\n",
    "    ax=ax,\n",
    "    edgecolor=\"grey\",\n",
    "    linewidth=1,\n",
    "    facecolor=\"none\",\n",
    "    zorder=1,\n",
    "    alpha=0.8\n",
    ")\n",
    "\n",
    "gen_stops.plot(\n",
    "    ax=ax,\n",
    "    marker=\"o\",\n",
    "    markersize=100,\n",
    "    #column=\"community\",\n",
    "    #cmap=\"hsv\",\n",
    "    zorder=2,\n",
    "    #legend=legend,\n",
    "    categorical=True\n",
    ")\n",
    "\n",
    "ll_stops.plot(\n",
    "    ax=ax,\n",
    "    marker=\"o\",\n",
    "    markersize=100,\n",
    "    #column=\"community\",\n",
    "    #cmap=\"hsv\",\n",
    "    zorder=2,\n",
    "    #legend=legend,\n",
    "    categorical=True\n",
    ")\n",
    "\n",
    "sample_node.plot(\n",
    "    ax=ax,\n",
    "    marker=7,\n",
    "    markersize=200,\n",
    "    #column=\"community\",\n",
    "    #cmap=\"hsv\",\n",
    "    zorder=2,\n",
    "    #legend=legend,\n",
    "    categorical=True\n",
    ")"
   ]
  },
  {
   "cell_type": "code",
   "execution_count": null,
   "metadata": {
    "pycharm": {
     "name": "#%%\n"
    }
   },
   "outputs": [],
   "source": [
    "##################\n",
    "# analysis  - mean distance to a bus stop in either system\n",
    "#           -"
   ]
  }
 ],
 "metadata": {
  "kernelspec": {
   "display_name": "Python 3",
   "language": "python",
   "name": "python3"
  },
  "language_info": {
   "codemirror_mode": {
    "name": "ipython",
    "version": 3
   },
   "file_extension": ".py",
   "mimetype": "text/x-python",
   "name": "python",
   "nbconvert_exporter": "python",
   "pygments_lexer": "ipython3",
   "version": "3.8.5"
  }
 },
 "nbformat": 4,
 "nbformat_minor": 1
}