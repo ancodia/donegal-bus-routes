{
 "cells": [
  {
   "cell_type": "code",
   "execution_count": 2,
   "metadata": {
    "collapsed": true
   },
   "outputs": [],
   "source": [
    "import pandas as pd\n",
    "import config"
   ]
  },
  {
   "cell_type": "code",
   "execution_count": 3,
   "outputs": [],
   "source": [
    "# load population dataset, need to check max/min values\n",
    "# for latitude and longitude columns\n",
    "population_data = pd.read_csv(config.population_csv)\n",
    "max_lat = population_data[\"lat\"].max()\n",
    "min_lat = population_data[\"lat\"].min()\n",
    "max_lng = population_data[\"lng\"].max()\n",
    "min_lng = population_data[\"lng\"].min()"
   ],
   "metadata": {
    "collapsed": false,
    "pycharm": {
     "name": "#%%\n"
    }
   }
  },
  {
   "cell_type": "code",
   "execution_count": 4,
   "outputs": [
    {
     "data": {
      "text/plain": "        stop_id                           stop_name   stop_lat  stop_lon\n0   7000B158241  Derry (Magee Campus Strand Road) 1  55.004476 -7.321782\n1     821000001                        Green Lane 1  52.841907 -6.916965\n2     821000002                        Green Lane 2  52.841728 -6.916984\n3  8210B3355701     Carlow, Carlow Coach Park ->SW2  52.833629 -6.926847\n4   8210B351711                      Lucy Nolan's 1  52.740188 -6.770400",
      "text/html": "<div>\n<style scoped>\n    .dataframe tbody tr th:only-of-type {\n        vertical-align: middle;\n    }\n\n    .dataframe tbody tr th {\n        vertical-align: top;\n    }\n\n    .dataframe thead th {\n        text-align: right;\n    }\n</style>\n<table border=\"1\" class=\"dataframe\">\n  <thead>\n    <tr style=\"text-align: right;\">\n      <th></th>\n      <th>stop_id</th>\n      <th>stop_name</th>\n      <th>stop_lat</th>\n      <th>stop_lon</th>\n    </tr>\n  </thead>\n  <tbody>\n    <tr>\n      <th>0</th>\n      <td>7000B158241</td>\n      <td>Derry (Magee Campus Strand Road) 1</td>\n      <td>55.004476</td>\n      <td>-7.321782</td>\n    </tr>\n    <tr>\n      <th>1</th>\n      <td>821000001</td>\n      <td>Green Lane 1</td>\n      <td>52.841907</td>\n      <td>-6.916965</td>\n    </tr>\n    <tr>\n      <th>2</th>\n      <td>821000002</td>\n      <td>Green Lane 2</td>\n      <td>52.841728</td>\n      <td>-6.916984</td>\n    </tr>\n    <tr>\n      <th>3</th>\n      <td>8210B3355701</td>\n      <td>Carlow, Carlow Coach Park -&gt;SW2</td>\n      <td>52.833629</td>\n      <td>-6.926847</td>\n    </tr>\n    <tr>\n      <th>4</th>\n      <td>8210B351711</td>\n      <td>Lucy Nolan's 1</td>\n      <td>52.740188</td>\n      <td>-6.770400</td>\n    </tr>\n  </tbody>\n</table>\n</div>"
     },
     "execution_count": 4,
     "metadata": {},
     "output_type": "execute_result"
    }
   ],
   "source": [
    "# load locallinks stop data.\n",
    "# filter to only include stops within range of latitude/longitude\n",
    "locallink_stops = pd.read_csv(f\"{config.locallink_data_path}/stops.txt\")\n",
    "locallink_stops.head()"
   ],
   "metadata": {
    "collapsed": false,
    "pycharm": {
     "name": "#%%\n"
    }
   }
  },
  {
   "cell_type": "code",
   "execution_count": 5,
   "outputs": [
    {
     "data": {
      "text/plain": "                stop_id                                    stop_name  \\\n0           7000B158241           Derry (Magee Campus Strand Road) 1   \n630           853000002                                  Portsalon 2   \n631           853000004            Arryheernabin, Fanad Lighthouse 1   \n632           853000007                                 Falcarragh 1   \n633           853000009                                    Fintown 1   \n..                  ...                                          ...   \n868  gen:57402:8177:0:1                         Buncrana, Buncrana 1   \n869  gen:57402:8178:0:1  Tir Na Sligo, Tiernasligo National School 1   \n870  gen:57402:8179:0:1                Straid (Donegal), Waterfall 1   \n871  gen:57402:8224:0:1                  Bridge End, 19th Hole Bar 1   \n872  gen:57403:7923:0:1                 Knockatallon, Knockatallon 1   \n\n      stop_lat  stop_lon  \n0    55.004476 -7.321782  \n630  55.205555 -7.636540  \n631  55.276113 -7.632418  \n632  55.136505 -8.104273  \n633  54.868210 -8.124345  \n..         ...       ...  \n868  55.136192 -7.456586  \n869  55.269323 -7.497034  \n870  55.267925 -7.436002  \n871  55.044388 -7.381098  \n872  54.509393 -7.224587  \n\n[162 rows x 4 columns]",
      "text/html": "<div>\n<style scoped>\n    .dataframe tbody tr th:only-of-type {\n        vertical-align: middle;\n    }\n\n    .dataframe tbody tr th {\n        vertical-align: top;\n    }\n\n    .dataframe thead th {\n        text-align: right;\n    }\n</style>\n<table border=\"1\" class=\"dataframe\">\n  <thead>\n    <tr style=\"text-align: right;\">\n      <th></th>\n      <th>stop_id</th>\n      <th>stop_name</th>\n      <th>stop_lat</th>\n      <th>stop_lon</th>\n    </tr>\n  </thead>\n  <tbody>\n    <tr>\n      <th>0</th>\n      <td>7000B158241</td>\n      <td>Derry (Magee Campus Strand Road) 1</td>\n      <td>55.004476</td>\n      <td>-7.321782</td>\n    </tr>\n    <tr>\n      <th>630</th>\n      <td>853000002</td>\n      <td>Portsalon 2</td>\n      <td>55.205555</td>\n      <td>-7.636540</td>\n    </tr>\n    <tr>\n      <th>631</th>\n      <td>853000004</td>\n      <td>Arryheernabin, Fanad Lighthouse 1</td>\n      <td>55.276113</td>\n      <td>-7.632418</td>\n    </tr>\n    <tr>\n      <th>632</th>\n      <td>853000007</td>\n      <td>Falcarragh 1</td>\n      <td>55.136505</td>\n      <td>-8.104273</td>\n    </tr>\n    <tr>\n      <th>633</th>\n      <td>853000009</td>\n      <td>Fintown 1</td>\n      <td>54.868210</td>\n      <td>-8.124345</td>\n    </tr>\n    <tr>\n      <th>...</th>\n      <td>...</td>\n      <td>...</td>\n      <td>...</td>\n      <td>...</td>\n    </tr>\n    <tr>\n      <th>868</th>\n      <td>gen:57402:8177:0:1</td>\n      <td>Buncrana, Buncrana 1</td>\n      <td>55.136192</td>\n      <td>-7.456586</td>\n    </tr>\n    <tr>\n      <th>869</th>\n      <td>gen:57402:8178:0:1</td>\n      <td>Tir Na Sligo, Tiernasligo National School 1</td>\n      <td>55.269323</td>\n      <td>-7.497034</td>\n    </tr>\n    <tr>\n      <th>870</th>\n      <td>gen:57402:8179:0:1</td>\n      <td>Straid (Donegal), Waterfall 1</td>\n      <td>55.267925</td>\n      <td>-7.436002</td>\n    </tr>\n    <tr>\n      <th>871</th>\n      <td>gen:57402:8224:0:1</td>\n      <td>Bridge End, 19th Hole Bar 1</td>\n      <td>55.044388</td>\n      <td>-7.381098</td>\n    </tr>\n    <tr>\n      <th>872</th>\n      <td>gen:57403:7923:0:1</td>\n      <td>Knockatallon, Knockatallon 1</td>\n      <td>54.509393</td>\n      <td>-7.224587</td>\n    </tr>\n  </tbody>\n</table>\n<p>162 rows × 4 columns</p>\n</div>"
     },
     "execution_count": 5,
     "metadata": {},
     "output_type": "execute_result"
    }
   ],
   "source": [
    "donegal_stops = locallink_stops[(locallink_stops[\"stop_lat\"] >= min_lat) &\n",
    "                                (locallink_stops[\"stop_lat\"] <= max_lat) &\n",
    "                                (locallink_stops[\"stop_lon\"] >= min_lng) &\n",
    "                                (locallink_stops[\"stop_lon\"] <= max_lng)]\n",
    "pd.set_option('display.max_rows', 15)\n",
    "donegal_stops\n",
    "# there are unexpected stops returned. e.g Derry, Magee Campus\n",
    "# cross check stops with stop times data"
   ],
   "metadata": {
    "collapsed": false,
    "pycharm": {
     "name": "#%%\n"
    }
   }
  },
  {
   "cell_type": "code",
   "execution_count": 6,
   "outputs": [
    {
     "data": {
      "text/plain": "162"
     },
     "execution_count": 6,
     "metadata": {},
     "output_type": "execute_result"
    }
   ],
   "source": [
    "len(donegal_stops)"
   ],
   "metadata": {
    "collapsed": false,
    "pycharm": {
     "name": "#%%\n"
    }
   }
  },
  {
   "cell_type": "code",
   "execution_count": 7,
   "outputs": [],
   "source": [
    "# save to csv for manual removal of stops not in Donegal\n",
    "donegal_stops.to_csv(f\"{config.locallink_data_path}/donegal_stops_for_manual_review.csv\")"
   ],
   "metadata": {
    "collapsed": false,
    "pycharm": {
     "name": "#%%\n"
    }
   }
  },
  {
   "cell_type": "code",
   "execution_count": 9,
   "outputs": [
    {
     "data": {
      "text/plain": "160"
     },
     "execution_count": 9,
     "metadata": {},
     "output_type": "execute_result"
    }
   ],
   "source": [
    "# removed derry stops\n",
    "updated_donegal_stops = pd.read_csv(f\"{config.locallink_data_path}/donegal_stops_updated.csv\")\n",
    "len(updated_donegal_stops)\n",
    "# ready to find closest nodes on road network graph to add LL labels"
   ],
   "metadata": {
    "collapsed": false,
    "pycharm": {
     "name": "#%%\n"
    }
   }
  }
 ],
 "metadata": {
  "kernelspec": {
   "display_name": "Python 3",
   "language": "python",
   "name": "python3"
  },
  "language_info": {
   "codemirror_mode": {
    "name": "ipython",
    "version": 2
   },
   "file_extension": ".py",
   "mimetype": "text/x-python",
   "name": "python",
   "nbconvert_exporter": "python",
   "pygments_lexer": "ipython2",
   "version": "2.7.6"
  }
 },
 "nbformat": 4,
 "nbformat_minor": 0
}