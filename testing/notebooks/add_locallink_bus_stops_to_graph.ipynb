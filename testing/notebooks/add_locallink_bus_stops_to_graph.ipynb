{
 "cells": [
  {
   "cell_type": "code",
   "execution_count": 1,
   "metadata": {
    "collapsed": true
   },
   "outputs": [],
   "source": [
    "import pandas as pd\n",
    "import osmnx as ox\n",
    "import config\n",
    "import peartree as pt\n",
    "import partridge as ptg\n",
    "import networkx as nx"
   ]
  },
  {
   "cell_type": "code",
   "execution_count": 2,
   "outputs": [],
   "source": [
    "feed = ptg.load_feed(f\"{config.testing_data_path}/\"\n",
    "                     f\"google_transit_locallink.zip\")"
   ],
   "metadata": {
    "collapsed": false,
    "pycharm": {
     "name": "#%%\n"
    }
   }
  },
  {
   "cell_type": "code",
   "execution_count": null,
   "outputs": [],
   "source": [
    "# feed = pt.get_representative_feed(f\"{config.testing_data_path}/\"\n",
    "#                                   f\"google_transit_locallink.zip\")\n",
    "# len(feed.stops)"
   ],
   "metadata": {
    "collapsed": false,
    "pycharm": {
     "name": "#%%\n"
    }
   }
  },
  {
   "cell_type": "code",
   "execution_count": 3,
   "outputs": [
    {
     "data": {
      "text/plain": "54.4688255"
     },
     "execution_count": 3,
     "metadata": {},
     "output_type": "execute_result"
    }
   ],
   "source": [
    "# filter the feed so to only include bus stops with a latitude greater\n",
    "# than the minimum latitude value from the population data\n",
    "# population_data = pd.read_csv(config.population_csv)\n",
    "# min_lat = population_data.lat.min()\n",
    "# min_lat"
   ],
   "metadata": {
    "collapsed": false,
    "pycharm": {
     "name": "#%%\n"
    }
   }
  },
  {
   "cell_type": "code",
   "execution_count": 4,
   "outputs": [
    {
     "data": {
      "text/plain": "164"
     },
     "execution_count": 4,
     "metadata": {},
     "output_type": "execute_result"
    }
   ],
   "source": [
    "# filtered_stops = feed.stops[feed.stops.stop_lat >= min_lat]\n",
    "# len(filtered_stops)"
   ],
   "metadata": {
    "collapsed": false,
    "pycharm": {
     "name": "#%%\n"
    }
   }
  },
  {
   "cell_type": "code",
   "execution_count": 5,
   "outputs": [
    {
     "data": {
      "text/plain": "                stop_id                         stop_name   stop_lat  stop_lon\n0           7000B158241  Derry (Magee Campus Strand Road)  55.004476 -7.321782\n656           853000095      Molloys Supermarket Derrybeg  55.078139 -8.289987\n784   gen:31400:890:0:1               Derry, Water Street  54.996069 -7.317329\n875  gen:57402:8160:0:1      Derrycassan Cottages, Simons  55.203874 -7.849413\n876  gen:57402:8161:0:1               Derrycassan, Grotto  55.210575 -7.856003",
      "text/html": "<div>\n<style scoped>\n    .dataframe tbody tr th:only-of-type {\n        vertical-align: middle;\n    }\n\n    .dataframe tbody tr th {\n        vertical-align: top;\n    }\n\n    .dataframe thead th {\n        text-align: right;\n    }\n</style>\n<table border=\"1\" class=\"dataframe\">\n  <thead>\n    <tr style=\"text-align: right;\">\n      <th></th>\n      <th>stop_id</th>\n      <th>stop_name</th>\n      <th>stop_lat</th>\n      <th>stop_lon</th>\n    </tr>\n  </thead>\n  <tbody>\n    <tr>\n      <th>0</th>\n      <td>7000B158241</td>\n      <td>Derry (Magee Campus Strand Road)</td>\n      <td>55.004476</td>\n      <td>-7.321782</td>\n    </tr>\n    <tr>\n      <th>656</th>\n      <td>853000095</td>\n      <td>Molloys Supermarket Derrybeg</td>\n      <td>55.078139</td>\n      <td>-8.289987</td>\n    </tr>\n    <tr>\n      <th>784</th>\n      <td>gen:31400:890:0:1</td>\n      <td>Derry, Water Street</td>\n      <td>54.996069</td>\n      <td>-7.317329</td>\n    </tr>\n    <tr>\n      <th>875</th>\n      <td>gen:57402:8160:0:1</td>\n      <td>Derrycassan Cottages, Simons</td>\n      <td>55.203874</td>\n      <td>-7.849413</td>\n    </tr>\n    <tr>\n      <th>876</th>\n      <td>gen:57402:8161:0:1</td>\n      <td>Derrycassan, Grotto</td>\n      <td>55.210575</td>\n      <td>-7.856003</td>\n    </tr>\n  </tbody>\n</table>\n</div>"
     },
     "execution_count": 5,
     "metadata": {},
     "output_type": "execute_result"
    }
   ],
   "source": [
    "# find stops with \"Derry\" in their name.\n",
    "# filtered_stops[filtered_stops[\"stop_name\"].str.contains(\"Derry\")]"
   ],
   "metadata": {
    "collapsed": false,
    "pycharm": {
     "name": "#%%\n"
    }
   }
  },
  {
   "cell_type": "code",
   "execution_count": 6,
   "outputs": [],
   "source": [
    "# remove the Derry stops\n",
    "# ids_to_exclude = [\"7000B158241\", \"gen:31400:890:0:1\"]\n",
    "# filtered_stops = filtered_stops[~filtered_stops[\"stop_id\"].isin(ids_to_exclude)]"
   ],
   "metadata": {
    "collapsed": false,
    "pycharm": {
     "name": "#%%\n"
    }
   }
  },
  {
   "cell_type": "code",
   "execution_count": 28,
   "outputs": [],
   "source": [
    "# get donegal records from stop_times to find the path followed\n",
    "# filtered_stop_times = feed.stop_times[\n",
    "#     feed.stop_times.stop_id.isin(\n",
    "#         filtered_stops[\"stop_id\"])]"
   ],
   "metadata": {
    "collapsed": false,
    "pycharm": {
     "name": "#%%\n"
    }
   }
  },
  {
   "cell_type": "code",
   "execution_count": 29,
   "outputs": [],
   "source": [
    "# get donegal routes, agency_id=\"LLDL\"\n",
    "filtered_routes = feed.routes[feed.routes.agency_id == \"LLDL\"]"
   ],
   "metadata": {
    "collapsed": false,
    "pycharm": {
     "name": "#%%\n"
    }
   }
  },
  {
   "cell_type": "code",
   "execution_count": 30,
   "outputs": [],
   "source": [
    "# route ids\n",
    "donegal_routes = filtered_routes.route_id.to_list()"
   ],
   "metadata": {
    "collapsed": false,
    "pycharm": {
     "name": "#%%\n"
    }
   }
  },
  {
   "cell_type": "code",
   "execution_count": 43,
   "outputs": [],
   "source": [
    "# ###################\n",
    "# a = filtered_stop_times[\"trip_id\"].str.contains(\"49-568-y11-1\")\n",
    "# b = a[a.values == True]"
   ],
   "metadata": {
    "collapsed": false,
    "pycharm": {
     "name": "#%%\n"
    }
   }
  },
  {
   "cell_type": "code",
   "execution_count": 44,
   "outputs": [],
   "source": [
    "# use the route ids to find matches in filtered stop times,\n",
    "# add route_id column and find unique stop time records\n",
    "stop_times = feed.stop_times\n",
    "for route in donegal_routes:\n",
    "    stop_times.loc[\n",
    "        stop_times[\"trip_id\"].str.contains(route), \"route_id\"] = route"
   ],
   "metadata": {
    "collapsed": false,
    "pycharm": {
     "name": "#%%\n"
    }
   }
  },
  {
   "cell_type": "code",
   "execution_count": 51,
   "outputs": [],
   "source": [
    "# keep only route, stop and sequence columns and drop duplicate rows\n",
    "routes = stop_times[[\"route_id\", \"stop_id\", \"stop_sequence\"]]\n",
    "# stop_times[stop_times.route_id == \"49-568-y11-1\"]"
   ],
   "metadata": {
    "collapsed": false,
    "pycharm": {
     "name": "#%%\n"
    }
   }
  },
  {
   "cell_type": "code",
   "execution_count": null,
   "outputs": [],
   "source": [
    "# find stops with \"Derry\" in their name.\n",
    "feed.stops[feed.stops[\"stop_name\"].str.contains(\"Derry\")]"
   ],
   "metadata": {
    "collapsed": false,
    "pycharm": {
     "name": "#%%\n"
    }
   }
  },
  {
   "cell_type": "code",
   "execution_count": 52,
   "outputs": [
    {
     "data": {
      "text/plain": "10415"
     },
     "execution_count": 52,
     "metadata": {},
     "output_type": "execute_result"
    }
   ],
   "source": [
    "# remove the Derry stops from route times\n",
    "ids_to_exclude = [\"7000B158241\", \"gen:31400:890:0:1\"]\n",
    "routes = routes[~stop_times[\"stop_id\"].isin(ids_to_exclude)]\n",
    "len(routes)"
   ],
   "metadata": {
    "collapsed": false,
    "pycharm": {
     "name": "#%%\n"
    }
   }
  },
  {
   "cell_type": "code",
   "execution_count": 53,
   "outputs": [
    {
     "data": {
      "text/plain": "1869"
     },
     "execution_count": 53,
     "metadata": {},
     "output_type": "execute_result"
    }
   ],
   "source": [
    "routes = routes.drop_duplicates()\n",
    "len(routes)"
   ],
   "metadata": {
    "collapsed": false,
    "pycharm": {
     "name": "#%%\n"
    }
   }
  },
  {
   "cell_type": "code",
   "execution_count": 54,
   "outputs": [],
   "source": [
    "route_dict = {route: routes.loc[routes[\"route_id\"] == route] for route in donegal_routes}\n",
    "\n",
    "\n",
    "\n",
    "\n",
    "\n",
    "\n",
    "\n",
    "\n"
   ],
   "metadata": {
    "collapsed": false,
    "pycharm": {
     "name": "#%%\n"
    }
   }
  },
  {
   "cell_type": "code",
   "execution_count": null,
   "outputs": [],
   "source": [
    "######################################\n",
    "feed.set(\"stops.txt\", filtered_stops)\n",
    "len(feed.stops)"
   ],
   "metadata": {
    "collapsed": false,
    "pycharm": {
     "name": "#%%\n"
    }
   }
  },
  {
   "cell_type": "code",
   "execution_count": 9,
   "outputs": [
    {
     "name": "stderr",
     "output_type": "stream",
     "text": [
      "/home/danny/College/donegal-bus-routes/venv1/lib/python3.8/site-packages/peartree/parallel.py:127: UserWarning: Boolean Series key will be reindexed to match DataFrame index.\n",
      "  direction_subset = stop_times_by_stop[constraint_2]\n"
     ]
    },
    {
     "name": "stdout",
     "output_type": "stream",
     "text": [
      "CPU times: user 5.79 s, sys: 11.5 ms, total: 5.8 s\n",
      "Wall time: 5.84 s\n"
     ]
    }
   ],
   "source": [
    "start = 1\n",
    "end = 86400\n",
    "%time G = pt.load_feed_as_graph(feed, start, end)"
   ],
   "metadata": {
    "collapsed": false,
    "pycharm": {
     "name": "#%%\n"
    }
   }
  },
  {
   "cell_type": "code",
   "execution_count": 10,
   "outputs": [
    {
     "name": "stderr",
     "output_type": "stream",
     "text": [
      "/home/danny/College/donegal-bus-routes/venv1/lib/python3.8/site-packages/pyproj/crs/crs.py:53: FutureWarning: '+init=<authority>:<code>' syntax is deprecated. '<authority>:<code>' is the preferred initialization method. When making the change, be mindful of axis order changes: https://pyproj4.github.io/pyproj/stable/gotchas.html#axis-order-changes-in-proj-6\n",
      "  return _prepare_from_string(\" \".join(pjargs))\n"
     ]
    },
    {
     "data": {
      "text/plain": "(<Figure size 576x576 with 1 Axes>,\n <matplotlib.axes._subplots.AxesSubplot at 0x7f3703dd9610>)"
     },
     "execution_count": 10,
     "metadata": {},
     "output_type": "execute_result"
    },
    {
     "data": {
      "text/plain": "<Figure size 576x576 with 1 Axes>",
      "image/png": "[encoded data removed]"
     },
     "metadata": {},
     "output_type": "display_data"
    }
   ],
   "source": [
    "import matplotlib as mpl\n",
    "\n",
    "ox.plot_graph(G,\n",
    "              show=False,\n",
    "              close=False,\n",
    "              node_color='#8aedfc',\n",
    "              node_size=5,\n",
    "              edge_color='#e2dede',\n",
    "              edge_alpha=0.25,\n",
    "              bgcolor='black')"
   ],
   "metadata": {
    "collapsed": false,
    "pycharm": {
     "name": "#%%\n"
    }
   }
  },
  {
   "cell_type": "code",
   "execution_count": null,
   "outputs": [],
   "source": [
    "import geopandas as gpd\n",
    "from shapely.geometry import Point\n",
    "\n",
    "# We need a coverage area, based on the points from the\n",
    "# New Orleans GTFS data, which we can pull from the peartree\n",
    "# network graph by utilizing coordinate values and extracting\n",
    "# a convex hull from the point cloud\n",
    "boundary = gpd.GeoSeries(\n",
    "    [Point(n['x'], n['y']) for i, n in G.nodes(data=True)]\n",
    "    ).unary_union.convex_hull\n",
    "\n",
    "# Visually inspect\n",
    "boundary"
   ],
   "metadata": {
    "collapsed": false,
    "pycharm": {
     "name": "#%%\n"
    }
   }
  },
  {
   "cell_type": "code",
   "execution_count": null,
   "outputs": [],
   "source": [
    "%time\n",
    "G_all_routes = ox.load_graphml(filepath=f\"{config.rp_graphml_path}/all_routes.graphml\")\n",
    "# Gdrive = ox.graph_from_polygon(boundary, network_type='drive')"
   ],
   "metadata": {
    "collapsed": false,
    "pycharm": {
     "name": "#%%\n"
    }
   }
  },
  {
   "cell_type": "code",
   "execution_count": null,
   "outputs": [],
   "source": [
    "ox.plot_graph(G_all_routes)"
   ],
   "metadata": {
    "collapsed": false,
    "pycharm": {
     "name": "#%%\n"
    }
   }
  },
  {
   "cell_type": "code",
   "execution_count": null,
   "outputs": [],
   "source": [
    "%time G2 = pt.load_feed_as_graph(feed, start, end, existing_graph=G_all_routes)"
   ],
   "metadata": {
    "collapsed": false,
    "pycharm": {
     "name": "#%%\n"
    }
   }
  },
  {
   "cell_type": "code",
   "execution_count": null,
   "outputs": [],
   "source": [
    "# nodes, edges = ox.graph_to_gdfs(G2)\n",
    "ox.plot_graph(G2)"
   ],
   "metadata": {
    "collapsed": false,
    "pycharm": {
     "name": "#%%\n"
    }
   }
  },
  {
   "cell_type": "code",
   "execution_count": null,
   "outputs": [],
   "source": [
    "n = nx.get_node_attributes(G2, \"modes\")"
   ],
   "metadata": {
    "collapsed": false,
    "pycharm": {
     "name": "#%%\n"
    }
   }
  },
  {
   "cell_type": "code",
   "execution_count": null,
   "outputs": [],
   "source": [
    "nodes = G2.nodes(data=True)\n",
    "edges = G2.edges(data=True)"
   ],
   "metadata": {
    "collapsed": false,
    "pycharm": {
     "name": "#%%\n"
    }
   }
  },
  {
   "cell_type": "code",
   "execution_count": null,
   "outputs": [],
   "source": [
    "nodes['OJ097_gen:57402:8224:0:1']"
   ],
   "metadata": {
    "collapsed": false,
    "pycharm": {
     "name": "#%%\n"
    }
   }
  },
  {
   "cell_type": "code",
   "execution_count": 32,
   "outputs": [],
   "source": [
    "###########################\n",
    "# load population dataset, need to check min value\n",
    "# for latitude columns\n",
    "population_data = pd.read_csv(config.population_csv)\n",
    "min_lat = population_data[\"lat\"].min()"
   ],
   "metadata": {
    "collapsed": false,
    "pycharm": {
     "name": "#%%\n"
    }
   }
  },
  {
   "cell_type": "code",
   "execution_count": 4,
   "outputs": [
    {
     "data": {
      "text/plain": "        stop_id                           stop_name   stop_lat  stop_lon\n0   7000B158241  Derry (Magee Campus Strand Road) 1  55.004476 -7.321782\n1     821000001                        Green Lane 1  52.841907 -6.916965\n2     821000002                        Green Lane 2  52.841728 -6.916984\n3  8210B3355701     Carlow, Carlow Coach Park ->SW2  52.833629 -6.926847\n4   8210B351711                      Lucy Nolan's 1  52.740188 -6.770400",
      "text/html": "<div>\n<style scoped>\n    .dataframe tbody tr th:only-of-type {\n        vertical-align: middle;\n    }\n\n    .dataframe tbody tr th {\n        vertical-align: top;\n    }\n\n    .dataframe thead th {\n        text-align: right;\n    }\n</style>\n<table border=\"1\" class=\"dataframe\">\n  <thead>\n    <tr style=\"text-align: right;\">\n      <th></th>\n      <th>stop_id</th>\n      <th>stop_name</th>\n      <th>stop_lat</th>\n      <th>stop_lon</th>\n    </tr>\n  </thead>\n  <tbody>\n    <tr>\n      <th>0</th>\n      <td>7000B158241</td>\n      <td>Derry (Magee Campus Strand Road) 1</td>\n      <td>55.004476</td>\n      <td>-7.321782</td>\n    </tr>\n    <tr>\n      <th>1</th>\n      <td>821000001</td>\n      <td>Green Lane 1</td>\n      <td>52.841907</td>\n      <td>-6.916965</td>\n    </tr>\n    <tr>\n      <th>2</th>\n      <td>821000002</td>\n      <td>Green Lane 2</td>\n      <td>52.841728</td>\n      <td>-6.916984</td>\n    </tr>\n    <tr>\n      <th>3</th>\n      <td>8210B3355701</td>\n      <td>Carlow, Carlow Coach Park -&gt;SW2</td>\n      <td>52.833629</td>\n      <td>-6.926847</td>\n    </tr>\n    <tr>\n      <th>4</th>\n      <td>8210B351711</td>\n      <td>Lucy Nolan's 1</td>\n      <td>52.740188</td>\n      <td>-6.770400</td>\n    </tr>\n  </tbody>\n</table>\n</div>"
     },
     "execution_count": 4,
     "metadata": {},
     "output_type": "execute_result"
    }
   ],
   "source": [
    "# load locallinks stop data.\n",
    "# filter to only include stops within range of latitude/longitude\n",
    "locallink_stops = pd.read_csv(f\"{config.locallink_data_path}/stops.txt\")\n",
    "locallink_stops.head()"
   ],
   "metadata": {
    "collapsed": false,
    "pycharm": {
     "name": "#%%\n"
    }
   }
  },
  {
   "cell_type": "code",
   "execution_count": 5,
   "outputs": [
    {
     "data": {
      "text/plain": "                stop_id                                    stop_name  \\\n0           7000B158241           Derry (Magee Campus Strand Road) 1   \n630           853000002                                  Portsalon 2   \n631           853000004            Arryheernabin, Fanad Lighthouse 1   \n632           853000007                                 Falcarragh 1   \n633           853000009                                    Fintown 1   \n..                  ...                                          ...   \n868  gen:57402:8177:0:1                         Buncrana, Buncrana 1   \n869  gen:57402:8178:0:1  Tir Na Sligo, Tiernasligo National School 1   \n870  gen:57402:8179:0:1                Straid (Donegal), Waterfall 1   \n871  gen:57402:8224:0:1                  Bridge End, 19th Hole Bar 1   \n872  gen:57403:7923:0:1                 Knockatallon, Knockatallon 1   \n\n      stop_lat  stop_lon  \n0    55.004476 -7.321782  \n630  55.205555 -7.636540  \n631  55.276113 -7.632418  \n632  55.136505 -8.104273  \n633  54.868210 -8.124345  \n..         ...       ...  \n868  55.136192 -7.456586  \n869  55.269323 -7.497034  \n870  55.267925 -7.436002  \n871  55.044388 -7.381098  \n872  54.509393 -7.224587  \n\n[162 rows x 4 columns]",
      "text/html": "<div>\n<style scoped>\n    .dataframe tbody tr th:only-of-type {\n        vertical-align: middle;\n    }\n\n    .dataframe tbody tr th {\n        vertical-align: top;\n    }\n\n    .dataframe thead th {\n        text-align: right;\n    }\n</style>\n<table border=\"1\" class=\"dataframe\">\n  <thead>\n    <tr style=\"text-align: right;\">\n      <th></th>\n      <th>stop_id</th>\n      <th>stop_name</th>\n      <th>stop_lat</th>\n      <th>stop_lon</th>\n    </tr>\n  </thead>\n  <tbody>\n    <tr>\n      <th>0</th>\n      <td>7000B158241</td>\n      <td>Derry (Magee Campus Strand Road) 1</td>\n      <td>55.004476</td>\n      <td>-7.321782</td>\n    </tr>\n    <tr>\n      <th>630</th>\n      <td>853000002</td>\n      <td>Portsalon 2</td>\n      <td>55.205555</td>\n      <td>-7.636540</td>\n    </tr>\n    <tr>\n      <th>631</th>\n      <td>853000004</td>\n      <td>Arryheernabin, Fanad Lighthouse 1</td>\n      <td>55.276113</td>\n      <td>-7.632418</td>\n    </tr>\n    <tr>\n      <th>632</th>\n      <td>853000007</td>\n      <td>Falcarragh 1</td>\n      <td>55.136505</td>\n      <td>-8.104273</td>\n    </tr>\n    <tr>\n      <th>633</th>\n      <td>853000009</td>\n      <td>Fintown 1</td>\n      <td>54.868210</td>\n      <td>-8.124345</td>\n    </tr>\n    <tr>\n      <th>...</th>\n      <td>...</td>\n      <td>...</td>\n      <td>...</td>\n      <td>...</td>\n    </tr>\n    <tr>\n      <th>868</th>\n      <td>gen:57402:8177:0:1</td>\n      <td>Buncrana, Buncrana 1</td>\n      <td>55.136192</td>\n      <td>-7.456586</td>\n    </tr>\n    <tr>\n      <th>869</th>\n      <td>gen:57402:8178:0:1</td>\n      <td>Tir Na Sligo, Tiernasligo National School 1</td>\n      <td>55.269323</td>\n      <td>-7.497034</td>\n    </tr>\n    <tr>\n      <th>870</th>\n      <td>gen:57402:8179:0:1</td>\n      <td>Straid (Donegal), Waterfall 1</td>\n      <td>55.267925</td>\n      <td>-7.436002</td>\n    </tr>\n    <tr>\n      <th>871</th>\n      <td>gen:57402:8224:0:1</td>\n      <td>Bridge End, 19th Hole Bar 1</td>\n      <td>55.044388</td>\n      <td>-7.381098</td>\n    </tr>\n    <tr>\n      <th>872</th>\n      <td>gen:57403:7923:0:1</td>\n      <td>Knockatallon, Knockatallon 1</td>\n      <td>54.509393</td>\n      <td>-7.224587</td>\n    </tr>\n  </tbody>\n</table>\n<p>162 rows × 4 columns</p>\n</div>"
     },
     "execution_count": 5,
     "metadata": {},
     "output_type": "execute_result"
    }
   ],
   "source": [
    "donegal_stops = locallink_stops[(locallink_stops[\"stop_lat\"] >= min_lat)]\n",
    "pd.set_option('display.max_rows', 15)\n",
    "donegal_stops\n",
    "# there are unexpected stops returned. e.g Derry, Magee Campus\n",
    "# cross check stops with stop times data"
   ],
   "metadata": {
    "collapsed": false,
    "pycharm": {
     "name": "#%%\n"
    }
   }
  },
  {
   "cell_type": "code",
   "execution_count": 6,
   "outputs": [
    {
     "data": {
      "text/plain": "162"
     },
     "execution_count": 6,
     "metadata": {},
     "output_type": "execute_result"
    }
   ],
   "source": [
    "len(donegal_stops)"
   ],
   "metadata": {
    "collapsed": false,
    "pycharm": {
     "name": "#%%\n"
    }
   }
  },
  {
   "cell_type": "code",
   "execution_count": 7,
   "outputs": [],
   "source": [
    "# save to csv for manual removal of stops not in Donegal\n",
    "donegal_stops.to_csv(f\"{config.locallink_data_path}/donegal_stops_for_manual_review.csv\")"
   ],
   "metadata": {
    "collapsed": false,
    "pycharm": {
     "name": "#%%\n"
    }
   }
  },
  {
   "cell_type": "code",
   "execution_count": 9,
   "outputs": [
    {
     "data": {
      "text/plain": "160"
     },
     "execution_count": 9,
     "metadata": {},
     "output_type": "execute_result"
    }
   ],
   "source": [
    "# removed derry stops\n",
    "updated_donegal_stops = pd.read_csv(f\"{config.locallink_data_path}/donegal_stops_updated.csv\")\n",
    "len(updated_donegal_stops)\n",
    "# ready to find closest nodes on road network graph to add LL labels"
   ],
   "metadata": {
    "collapsed": false,
    "pycharm": {
     "name": "#%%\n"
    }
   }
  }
 ],
 "metadata": {
  "kernelspec": {
   "display_name": "Python 3",
   "language": "python",
   "name": "python3"
  },
  "language_info": {
   "codemirror_mode": {
    "name": "ipython",
    "version": 2
   },
   "file_extension": ".py",
   "mimetype": "text/x-python",
   "name": "python",
   "nbconvert_exporter": "python",
   "pygments_lexer": "ipython2",
   "version": "2.7.6"
  }
 },
 "nbformat": 4,
 "nbformat_minor": 0
}