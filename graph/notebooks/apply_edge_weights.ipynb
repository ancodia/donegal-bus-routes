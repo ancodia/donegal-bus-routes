{
 "cells": [
  {
   "cell_type": "markdown",
   "metadata": {},
   "source": [
    "This notebook assigns weights to the edges of the Donegal road graph using the coordinates of townlands found from querying the OSM API. The graph and townland population data must first be loaded from disk."
   ]
  },
  {
   "cell_type": "code",
   "execution_count": 1,
   "metadata": {},
   "outputs": [],
   "source": [
    "import config\n",
    "import osmnx as ox\n",
    "import networkx as nx\n",
    "import pandas as pd\n",
    "import graph.helpers.graph_helper as helper"
   ]
  },
  {
   "cell_type": "code",
   "execution_count": 2,
   "metadata": {},
   "outputs": [
    {
     "data": {
      "text/html": [
       "<div>\n",
       "<style scoped>\n",
       "    .dataframe tbody tr th:only-of-type {\n",
       "        vertical-align: middle;\n",
       "    }\n",
       "\n",
       "    .dataframe tbody tr th {\n",
       "        vertical-align: top;\n",
       "    }\n",
       "\n",
       "    .dataframe thead th {\n",
       "        text-align: right;\n",
       "    }\n",
       "</style>\n",
       "<table border=\"1\" class=\"dataframe\">\n",
       "  <thead>\n",
       "    <tr style=\"text-align: right;\">\n",
       "      <th></th>\n",
       "      <th>Unnamed: 0</th>\n",
       "      <th>townland</th>\n",
       "      <th>town</th>\n",
       "      <th>population</th>\n",
       "      <th>lat</th>\n",
       "      <th>lng</th>\n",
       "    </tr>\n",
       "  </thead>\n",
       "  <tbody>\n",
       "    <tr>\n",
       "      <th>0</th>\n",
       "      <td>0</td>\n",
       "      <td>Abbey Island</td>\n",
       "      <td>Ballyshannon Rural</td>\n",
       "      <td>10.0</td>\n",
       "      <td>54.510056</td>\n",
       "      <td>-8.195737</td>\n",
       "    </tr>\n",
       "    <tr>\n",
       "      <th>1</th>\n",
       "      <td>1</td>\n",
       "      <td>Abbeylands</td>\n",
       "      <td>Ballyshannon Rural</td>\n",
       "      <td>121.0</td>\n",
       "      <td>54.513005</td>\n",
       "      <td>-8.204606</td>\n",
       "    </tr>\n",
       "    <tr>\n",
       "      <th>2</th>\n",
       "      <td>2</td>\n",
       "      <td>Adderville</td>\n",
       "      <td>Straid</td>\n",
       "      <td>54.0</td>\n",
       "      <td>55.239112</td>\n",
       "      <td>-7.434771</td>\n",
       "    </tr>\n",
       "    <tr>\n",
       "      <th>3</th>\n",
       "      <td>3</td>\n",
       "      <td>Adderwal</td>\n",
       "      <td>Gleann Léithín</td>\n",
       "      <td>9.0</td>\n",
       "      <td>54.905821</td>\n",
       "      <td>-8.168399</td>\n",
       "    </tr>\n",
       "    <tr>\n",
       "      <th>4</th>\n",
       "      <td>4</td>\n",
       "      <td>Admiran</td>\n",
       "      <td>Stranorlar</td>\n",
       "      <td>364.0</td>\n",
       "      <td>54.811157</td>\n",
       "      <td>-7.765547</td>\n",
       "    </tr>\n",
       "  </tbody>\n",
       "</table>\n",
       "</div>"
      ],
      "text/plain": [
       "   Unnamed: 0      townland                town  population        lat  \\\n",
       "0           0  Abbey Island  Ballyshannon Rural        10.0  54.510056   \n",
       "1           1    Abbeylands  Ballyshannon Rural       121.0  54.513005   \n",
       "2           2    Adderville              Straid        54.0  55.239112   \n",
       "3           3      Adderwal      Gleann Léithín         9.0  54.905821   \n",
       "4           4       Admiran          Stranorlar       364.0  54.811157   \n",
       "\n",
       "        lng  \n",
       "0 -8.195737  \n",
       "1 -8.204606  \n",
       "2 -7.434771  \n",
       "3 -8.168399  \n",
       "4 -7.765547  "
      ]
     },
     "execution_count": 2,
     "metadata": {},
     "output_type": "execute_result"
    }
   ],
   "source": [
    "graph_file = \"donegal_osm.graphml\"\n",
    "G = ox.load_graphml(graph_file)\n",
    "population_data = pd.read_csv(f\"{config.population_data_path}/donegal_townlands_all_coordinates.csv\")\n",
    "population_data.head()"
   ]
  },
  {
   "cell_type": "markdown",
   "metadata": {},
   "source": [
    "Next the closest edges to each townlands coordinates are found"
   ]
  },
  {
   "cell_type": "code",
   "execution_count": 3,
   "metadata": {
    "pycharm": {
     "name": "#%%\n"
    }
   },
   "outputs": [],
   "source": [
    "nearest_edges = ox.get_nearest_edges(G, population_data[\"lng\"], population_data[\"lat\"], method=\"balltree\")\n",
    "\n"
   ]
  },
  {
   "cell_type": "markdown",
   "metadata": {},
   "source": []
  },
  {
   "cell_type": "code",
   "execution_count": 6,
   "metadata": {},
   "outputs": [
    {
     "data": {
      "text/plain": [
       "array([[1947246190, 1947246217,          0],\n",
       "       [1947245998, 1947245965,          0],\n",
       "       [2278478385, 2120765116,          0],\n",
       "       ...,\n",
       "       [ 789295031,  789295149,          0],\n",
       "       [1888850520, 1888850239,          0],\n",
       "       [ 821213098,  821229159,          0]])"
      ]
     },
     "execution_count": 6,
     "metadata": {},
     "output_type": "execute_result"
    }
   ],
   "source": [
    "nearest_edges"
   ]
  }
 ],
 "metadata": {
  "kernelspec": {
   "display_name": "Python 3",
   "language": "python",
   "name": "python3"
  },
  "language_info": {
   "codemirror_mode": {
    "name": "ipython",
    "version": 3
   },
   "file_extension": ".py",
   "mimetype": "text/x-python",
   "name": "python",
   "nbconvert_exporter": "python",
   "pygments_lexer": "ipython3",
   "version": "3.8.3"
  }
 },
 "nbformat": 4,
 "nbformat_minor": 1
}